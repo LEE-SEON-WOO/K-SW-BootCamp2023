{
 "cells": [
  {
   "cell_type": "markdown",
   "metadata": {
    "colab_type": "text",
    "id": "eTdCMVl9YAXw"
   },
   "source": [
    "#Multilayer Perceptron (MLP)\n",
    "\n",
    "이 튜토리얼에서는 신경망의 기본 모델인 MLP에 대해 알아볼 것입니다.<br>\n",
    "본 튜토리얼에서는 비선형 나선 데이터에 선형 모델(로지스틱 회귀)을 맞추려고(fit) 시도하여 비선형 활성화 함수에 대한 필요성을 강조할 것 입니다.<br>"
   ]
  },
  {
   "cell_type": "markdown",
   "metadata": {
    "colab_type": "text",
    "id": "VoMq0eFRvugb"
   },
   "source": [
    "# Overview"
   ]
  },
  {
   "cell_type": "markdown",
   "metadata": {
    "colab_type": "text",
    "id": "qWro5T5qTJJL"
   },
   "source": [
    "머신 러닝의 목표는 모델에게 𝑋가 주어졌을때 𝑦를 내보내는 모델 𝑦̂를 학습하는 것입니다.\n",
    "\n",
    "신경망은 _일반화 된 선형 기법의 확장_ 일 뿐이고 데이터가 매우 <font color=red>비선형</font>이기 때문에 __비선형 활성화 함수를 사용__ 합니다.\n",
    "\n",
    "\n",
    "<div align=\"left\">\n",
    "<img src=\"https://raw.githubusercontent.com/LEE-SEON-WOO/DL-Tutorials-Py_or_Tf/master/notebooks/09_Multilayer_Perceptrons/mlp.png\" width=\"550\">\n",
    "</div>\n",
    "\n",
    "$z_1 = XW_1$\n",
    "\n",
    "$a_1 = f(z_1)$\n",
    "\n",
    "$z_2 = a_1W_2$\n",
    "\n",
    "$\\hat{y} = softmax(z_2)$ # 분류\n",
    "\n",
    "* $X$ = 입력 | $\\in \\mathbb{R}^{NXD}$ ($D$ = 특성의 수)\n",
    "* $W_1$ = 첫번째 레이어의 가중치 | $\\in \\mathbb{R}^{DXH}$ ($H$는 레이어의 히든 유닛 수)\n",
    "* $z_1$ = 첫 레이어로부터의 출력  $\\in \\mathbb{R}^{NXH}$\n",
    "* $f$ = 비선형 활성 함수\n",
    "* $a_1$ = 활성 함수가 적용된 첫 번째 레이어의 출력 | $\\in \\mathbb{R}^{NXH}$\n",
    "* $W_2$ = 두 번째 레이어의 가중치 | $\\in \\mathbb{R}^{HXC}$ ($C$ = 클래스의 수)\n",
    "* $z_2$ = 두 번째 레이어의 출력  $\\in \\mathbb{R}^{NXH}$\n",
    "* $\\hat{y}$ = 예측 | $\\in \\mathbb{R}^{NXC}$ ($N$ = 샘플의 수)"
   ]
  },
  {
   "cell_type": "markdown",
   "metadata": {
    "colab_type": "text",
    "id": "JqxyljU18hvt"
   },
   "source": [
    "## MLP\n",
    "* **목표:** $X$가 주어졌을때 $y$ 클래스의 확률을 예측. (비 선형성은 복잡하고 비 선형적인 데이터를 모델링하기위해 도입됨.)\n",
    "* **장점:**\n",
    "  * 비 선형적 패턴을 잘 모델링 가능\n",
    "* **단점:**\n",
    "  * 쉽게 과적화됨\n",
    "  * 네트워크 사이즈가 커질수록  계산 집약적임\n",
    "  * 쉽게 해석되지 않음\n",
    "* **기타:** 최근 신경망 구조에서는 MLP를 feed forward 연산을 위한 모듈식 유닛(XW + 활성 함수)으로 사용하게 됩니다."
   ]
  },
  {
   "cell_type": "markdown",
   "metadata": {
    "colab_type": "text",
    "id": "3GHB1Qi3sskB"
   },
   "source": [
    "**Note**: 본 튜토리얼에서는 역전파 계산이 덜 복잡하도록 하기 위해 편향 항은 생략 할 것입니다."
   ]
  },
  {
   "cell_type": "markdown",
   "metadata": {
    "colab_type": "text",
    "id": "9vbZa-cxlujX"
   },
   "source": [
    "# Data"
   ]
  },
  {
   "cell_type": "markdown",
   "metadata": {
    "colab_type": "text",
    "id": "XtKqNioAayCy"
   },
   "source": [
    "## 데이터 불러오기"
   ]
  },
  {
   "cell_type": "markdown",
   "metadata": {
    "colab_type": "text",
    "id": "X3OrtMpFayFC"
   },
   "source": [
    "먼저 분류를 위한 비선형 데이터를 다운로드 합니다."
   ]
  },
  {
   "cell_type": "code",
   "execution_count": 161,
   "metadata": {
    "colab": {},
    "colab_type": "code",
    "id": "9NfIz_4OPYpG"
   },
   "outputs": [],
   "source": [
    "import matplotlib.pyplot as plt\n",
    "import numpy as np\n",
    "import pandas as pd\n",
    "import urllib"
   ]
  },
  {
   "cell_type": "code",
   "execution_count": 162,
   "metadata": {
    "colab": {},
    "colab_type": "code",
    "id": "ttgClvBw9aJF"
   },
   "outputs": [],
   "source": [
    "SEED = 1234\n",
    "DATA_FILE = \"spiral.csv\""
   ]
  },
  {
   "cell_type": "code",
   "execution_count": 163,
   "metadata": {
    "colab": {},
    "colab_type": "code",
    "id": "hBUNRWB4DIlr"
   },
   "outputs": [],
   "source": [
    "# Set seed for reproducibility\n",
    "np.random.seed(SEED)"
   ]
  },
  {
   "cell_type": "code",
   "execution_count": 164,
   "metadata": {
    "colab": {},
    "colab_type": "code",
    "id": "q14QCqKxUS2v"
   },
   "outputs": [],
   "source": [
    "# Load data from GitHub to this notebook's local drive\n",
    "url = \"https://raw.githubusercontent.com/LEE-SEON-WOO/DL-Tutorials-Py_or_Tf/master/data/spiral.csv\"\n",
    "response = urllib.request.urlopen(url)\n",
    "html = response.read()\n",
    "with open(DATA_FILE, 'wb') as fp:\n",
    "    fp.write(html)"
   ]
  },
  {
   "cell_type": "code",
   "execution_count": 165,
   "metadata": {
    "colab": {
     "base_uri": "https://localhost:8080/",
     "height": 204
    },
    "colab_type": "code",
    "executionInfo": {
     "elapsed": 1958,
     "status": "ok",
     "timestamp": 1583943346719,
     "user": {
      "displayName": "Goku Mohandas",
      "photoUrl": "https://lh3.googleusercontent.com/a-/AOh14GjMIOf3R_zwS_zZx4ZyPMtQe0lOkGpPOEUEKWpM7g=s64",
      "userId": "00378334517810298963"
     },
     "user_tz": 420
    },
    "id": "efS3lVYETA17",
    "outputId": "e3f0c1e5-0911-4f9b-95b0-463d3577ac59"
   },
   "outputs": [
    {
     "data": {
      "text/html": [
       "<div>\n",
       "<style scoped>\n",
       "    .dataframe tbody tr th:only-of-type {\n",
       "        vertical-align: middle;\n",
       "    }\n",
       "\n",
       "    .dataframe tbody tr th {\n",
       "        vertical-align: top;\n",
       "    }\n",
       "\n",
       "    .dataframe thead th {\n",
       "        text-align: right;\n",
       "    }\n",
       "</style>\n",
       "<table border=\"1\" class=\"dataframe\">\n",
       "  <thead>\n",
       "    <tr style=\"text-align: right;\">\n",
       "      <th></th>\n",
       "      <th>X1</th>\n",
       "      <th>X2</th>\n",
       "      <th>color</th>\n",
       "    </tr>\n",
       "  </thead>\n",
       "  <tbody>\n",
       "    <tr>\n",
       "      <th>0</th>\n",
       "      <td>0.000000</td>\n",
       "      <td>0.000000</td>\n",
       "      <td>c1</td>\n",
       "    </tr>\n",
       "    <tr>\n",
       "      <th>1</th>\n",
       "      <td>-0.000457</td>\n",
       "      <td>0.001951</td>\n",
       "      <td>c1</td>\n",
       "    </tr>\n",
       "    <tr>\n",
       "      <th>2</th>\n",
       "      <td>0.001194</td>\n",
       "      <td>0.003826</td>\n",
       "      <td>c1</td>\n",
       "    </tr>\n",
       "    <tr>\n",
       "      <th>3</th>\n",
       "      <td>-0.000231</td>\n",
       "      <td>0.006008</td>\n",
       "      <td>c1</td>\n",
       "    </tr>\n",
       "    <tr>\n",
       "      <th>4</th>\n",
       "      <td>-0.000896</td>\n",
       "      <td>0.007966</td>\n",
       "      <td>c1</td>\n",
       "    </tr>\n",
       "  </tbody>\n",
       "</table>\n",
       "</div>"
      ],
      "text/plain": [
       "         X1        X2 color\n",
       "0  0.000000  0.000000    c1\n",
       "1 -0.000457  0.001951    c1\n",
       "2  0.001194  0.003826    c1\n",
       "3 -0.000231  0.006008    c1\n",
       "4 -0.000896  0.007966    c1"
      ]
     },
     "execution_count": 165,
     "metadata": {},
     "output_type": "execute_result"
    }
   ],
   "source": [
    "# Load data\n",
    "df = pd.read_csv(DATA_FILE, header=0)\n",
    "X = df[['X1', 'X2']].values\n",
    "y = df['color'].values\n",
    "df.head(5)"
   ]
  },
  {
   "cell_type": "code",
   "execution_count": 166,
   "metadata": {
    "colab": {
     "base_uri": "https://localhost:8080/",
     "height": 51
    },
    "colab_type": "code",
    "executionInfo": {
     "elapsed": 1934,
     "status": "ok",
     "timestamp": 1583943346720,
     "user": {
      "displayName": "Goku Mohandas",
      "photoUrl": "https://lh3.googleusercontent.com/a-/AOh14GjMIOf3R_zwS_zZx4ZyPMtQe0lOkGpPOEUEKWpM7g=s64",
      "userId": "00378334517810298963"
     },
     "user_tz": 420
    },
    "id": "jmTwuA9kHjhA",
    "outputId": "0e221f87-104f-47e1-e77a-7e3674f90e55"
   },
   "outputs": [
    {
     "name": "stdout",
     "output_type": "stream",
     "text": [
      "X:  (1500, 2)\n",
      "y:  (1500,)\n"
     ]
    }
   ],
   "source": [
    "print (\"X: \", np.shape(X))\n",
    "print (\"y: \", np.shape(y))"
   ]
  },
  {
   "cell_type": "code",
   "execution_count": 167,
   "metadata": {
    "colab": {
     "base_uri": "https://localhost:8080/",
     "height": 281
    },
    "colab_type": "code",
    "executionInfo": {
     "elapsed": 2221,
     "status": "ok",
     "timestamp": 1583943347039,
     "user": {
      "displayName": "Goku Mohandas",
      "photoUrl": "https://lh3.googleusercontent.com/a-/AOh14GjMIOf3R_zwS_zZx4ZyPMtQe0lOkGpPOEUEKWpM7g=s64",
      "userId": "00378334517810298963"
     },
     "user_tz": 420
    },
    "id": "jgVjStv8VnX2",
    "outputId": "d5e64900-23b3-4762-aff3-a5c83b24cef6"
   },
   "outputs": [
    {
     "data": {
      "image/png": "[encoded data removed]",
      "text/plain": [
       "<Figure size 432x288 with 1 Axes>"
      ]
     },
     "metadata": {
      "needs_background": "light"
     },
     "output_type": "display_data"
    }
   ],
   "source": [
    "# Visualize data\n",
    "plt.title(\"Generated non-linear data\")\n",
    "colors = {'c1': 'red', 'c2': 'yellow', 'c3': 'blue'}\n",
    "plt.scatter(X[:, 0], X[:, 1], c=[colors[_y] for _y in y], edgecolors='k', s=25)\n",
    "plt.show()"
   ]
  },
  {
   "cell_type": "markdown",
   "metadata": {
    "colab_type": "text",
    "id": "f01ldQXXS3lc"
   },
   "source": [
    "## 데이터 분리"
   ]
  },
  {
   "cell_type": "code",
   "execution_count": 168,
   "metadata": {
    "colab": {},
    "colab_type": "code",
    "id": "38DagTg9S4ze"
   },
   "outputs": [],
   "source": [
    "import collections\n",
    "from sklearn.model_selection import train_test_split"
   ]
  },
  {
   "cell_type": "code",
   "execution_count": 169,
   "metadata": {
    "colab": {},
    "colab_type": "code",
    "id": "a7HwlgP9-G52"
   },
   "outputs": [],
   "source": [
    "TRAIN_SIZE = 0.7\n",
    "VAL_SIZE = 0.15\n",
    "TEST_SIZE = 0.15\n",
    "SHUFFLE = True"
   ]
  },
  {
   "cell_type": "code",
   "execution_count": 170,
   "metadata": {
    "colab": {},
    "colab_type": "code",
    "id": "wRVOgVxDDcx3"
   },
   "outputs": [],
   "source": [
    "def train_val_test_split(X, y, val_size, test_size, shuffle):\n",
    "    \"\"\"Split data into train/val/test datasets.\n",
    "    \"\"\"\n",
    "    X_train, X_test, y_train, y_test = train_test_split(\n",
    "        X, y, test_size=test_size, stratify=y, shuffle=shuffle)\n",
    "    X_train, X_val, y_train, y_val = train_test_split(\n",
    "        X_train, y_train, test_size=val_size, stratify=y_train, shuffle=shuffle)\n",
    "    return X_train, X_val, X_test, y_train, y_val, y_test"
   ]
  },
  {
   "cell_type": "code",
   "execution_count": 171,
   "metadata": {
    "colab": {
     "base_uri": "https://localhost:8080/",
     "height": 102
    },
    "colab_type": "code",
    "executionInfo": {
     "elapsed": 749,
     "status": "ok",
     "timestamp": 1583943351849,
     "user": {
      "displayName": "Goku Mohandas",
      "photoUrl": "https://lh3.googleusercontent.com/a-/AOh14GjMIOf3R_zwS_zZx4ZyPMtQe0lOkGpPOEUEKWpM7g=s64",
      "userId": "00378334517810298963"
     },
     "user_tz": 420
    },
    "id": "gGFqcqTDXhkl",
    "outputId": "7c5bb22e-ea4b-4ffe-934d-c315edc935b2"
   },
   "outputs": [
    {
     "name": "stdout",
     "output_type": "stream",
     "text": [
      "X_train: (1083, 2), y_train: (1083,)\n",
      "X_val: (192, 2), y_val: (192,)\n",
      "X_test: (225, 2), y_test: (225,)\n",
      "Sample point: [ 0.23623443 -0.59618506] → c1\n",
      "Classes: {'c1': 500, 'c3': 500, 'c2': 500}\n"
     ]
    }
   ],
   "source": [
    "# Create data splits\n",
    "X_train, X_val, X_test, y_train, y_val, y_test = train_val_test_split(\n",
    "    X=X, y=y, val_size=VAL_SIZE, test_size=TEST_SIZE, shuffle=SHUFFLE)\n",
    "class_counts = dict(collections.Counter(y))\n",
    "print (f\"X_train: {X_train.shape}, y_train: {y_train.shape}\")\n",
    "print (f\"X_val: {X_val.shape}, y_val: {y_val.shape}\")\n",
    "print (f\"X_test: {X_test.shape}, y_test: {y_test.shape}\")\n",
    "print (f\"Sample point: {X_train[0]} → {y_train[0]}\")\n",
    "print (f\"Classes: {class_counts}\")"
   ]
  },
  {
   "cell_type": "markdown",
   "metadata": {
    "colab_type": "text",
    "id": "w8EQEwO2OWfN"
   },
   "source": [
    "## 레이블 인코더"
   ]
  },
  {
   "cell_type": "code",
   "execution_count": 172,
   "metadata": {
    "colab": {},
    "colab_type": "code",
    "id": "0ldFOhAqObcd"
   },
   "outputs": [],
   "source": [
    "from sklearn.preprocessing import LabelEncoder"
   ]
  },
  {
   "cell_type": "code",
   "execution_count": 173,
   "metadata": {
    "colab": {},
    "colab_type": "code",
    "id": "mYjAYlTdObf0"
   },
   "outputs": [],
   "source": [
    "# Output vectorizer\n",
    "y_tokenizer = LabelEncoder()"
   ]
  },
  {
   "cell_type": "code",
   "execution_count": 174,
   "metadata": {
    "colab": {
     "base_uri": "https://localhost:8080/",
     "height": 34
    },
    "colab_type": "code",
    "executionInfo": {
     "elapsed": 571,
     "status": "ok",
     "timestamp": 1583943354684,
     "user": {
      "displayName": "Goku Mohandas",
      "photoUrl": "https://lh3.googleusercontent.com/a-/AOh14GjMIOf3R_zwS_zZx4ZyPMtQe0lOkGpPOEUEKWpM7g=s64",
      "userId": "00378334517810298963"
     },
     "user_tz": 420
    },
    "id": "VO1uxrdgObkf",
    "outputId": "4abbfa28-ae1b-48f3-b746-867a7ead867d"
   },
   "outputs": [
    {
     "name": "stdout",
     "output_type": "stream",
     "text": [
      "classes: ['c1', 'c2', 'c3']\n"
     ]
    }
   ],
   "source": [
    "# Fit on train data\n",
    "y_tokenizer = y_tokenizer.fit(y_train)\n",
    "classes = list(y_tokenizer.classes_)\n",
    "print (f\"classes: {classes}\")"
   ]
  },
  {
   "cell_type": "code",
   "execution_count": 175,
   "metadata": {
    "colab": {
     "base_uri": "https://localhost:8080/",
     "height": 51
    },
    "colab_type": "code",
    "executionInfo": {
     "elapsed": 1122,
     "status": "ok",
     "timestamp": 1583943356234,
     "user": {
      "displayName": "Goku Mohandas",
      "photoUrl": "https://lh3.googleusercontent.com/a-/AOh14GjMIOf3R_zwS_zZx4ZyPMtQe0lOkGpPOEUEKWpM7g=s64",
      "userId": "00378334517810298963"
     },
     "user_tz": 420
    },
    "id": "1t9vjih9Oeq9",
    "outputId": "21a391ec-dc3f-4cc5-a43d-b58bd4327f33"
   },
   "outputs": [
    {
     "name": "stdout",
     "output_type": "stream",
     "text": [
      "y_train[0]: c1\n",
      "y_train[0]: 0\n"
     ]
    }
   ],
   "source": [
    "# Convert labels to tokens\n",
    "print (f\"y_train[0]: {y_train[0]}\")\n",
    "y_train = y_tokenizer.transform(y_train)\n",
    "y_val = y_tokenizer.transform(y_val)\n",
    "y_test = y_tokenizer.transform(y_test)\n",
    "print (f\"y_train[0]: {y_train[0]}\")"
   ]
  },
  {
   "cell_type": "code",
   "execution_count": 176,
   "metadata": {
    "colab": {
     "base_uri": "https://localhost:8080/",
     "height": 51
    },
    "colab_type": "code",
    "executionInfo": {
     "elapsed": 981,
     "status": "ok",
     "timestamp": 1583943356799,
     "user": {
      "displayName": "Goku Mohandas",
      "photoUrl": "https://lh3.googleusercontent.com/a-/AOh14GjMIOf3R_zwS_zZx4ZyPMtQe0lOkGpPOEUEKWpM7g=s64",
      "userId": "00378334517810298963"
     },
     "user_tz": 420
    },
    "id": "QVgNHgSkInPE",
    "outputId": "b69b879b-69dd-470c-f2d9-c64275b7f0dc"
   },
   "outputs": [
    {
     "name": "stdout",
     "output_type": "stream",
     "text": [
      "class counts: Counter({0: 361, 2: 361, 1: 361}),\n",
      "class weights: {0: 0.002770083102493075, 2: 0.002770083102493075, 1: 0.002770083102493075}\n"
     ]
    }
   ],
   "source": [
    "# Class weights\n",
    "counts = collections.Counter(y_train)\n",
    "class_weights = {_class: 1.0/count for _class, count in counts.items()}\n",
    "print (f\"class counts: {counts},\\nclass weights: {class_weights}\")"
   ]
  },
  {
   "cell_type": "markdown",
   "metadata": {
    "colab_type": "text",
    "id": "MDFM5gQte5rQ"
   },
   "source": [
    "## 데이터 표준화"
   ]
  },
  {
   "cell_type": "markdown",
   "metadata": {
    "colab_type": "text",
    "id": "JlmiwCUre_ZH"
   },
   "source": [
    "최적화를 빠르게하기 위해 데이터를 표준화할 필요가 있습니다.<br>\n",
    "출력 y는 클래스 값이기 때문에 입력 X만 표준화 합니다."
   ]
  },
  {
   "cell_type": "code",
   "execution_count": 177,
   "metadata": {
    "colab": {},
    "colab_type": "code",
    "id": "D4uCG3vMe52J"
   },
   "outputs": [],
   "source": [
    "from sklearn.preprocessing import StandardScaler"
   ]
  },
  {
   "cell_type": "code",
   "execution_count": 178,
   "metadata": {
    "colab": {},
    "colab_type": "code",
    "id": "3tTbwUOme5z7"
   },
   "outputs": [],
   "source": [
    "# Standardize the data (mean=0, std=1) using training data\n",
    "X_scaler = StandardScaler().fit(X_train)"
   ]
  },
  {
   "cell_type": "code",
   "execution_count": 179,
   "metadata": {
    "colab": {},
    "colab_type": "code",
    "id": "zGTQNaRie5xb"
   },
   "outputs": [],
   "source": [
    "# Apply scaler on training and test data (don't standardize outputs for classification)\n",
    "X_train = X_scaler.transform(X_train)\n",
    "X_val = X_scaler.transform(X_val)\n",
    "X_test = X_scaler.transform(X_test)"
   ]
  },
  {
   "cell_type": "code",
   "execution_count": 180,
   "metadata": {
    "colab": {
     "base_uri": "https://localhost:8080/",
     "height": 119
    },
    "colab_type": "code",
    "executionInfo": {
     "elapsed": 2042,
     "status": "ok",
     "timestamp": 1583943360179,
     "user": {
      "displayName": "Goku Mohandas",
      "photoUrl": "https://lh3.googleusercontent.com/a-/AOh14GjMIOf3R_zwS_zZx4ZyPMtQe0lOkGpPOEUEKWpM7g=s64",
      "userId": "00378334517810298963"
     },
     "user_tz": 420
    },
    "id": "dstH0Cm-fLgK",
    "outputId": "9c6215c8-effd-4452-c613-5b2f1d26d801"
   },
   "outputs": [
    {
     "name": "stdout",
     "output_type": "stream",
     "text": [
      "X_train[0]: mean: 0.0, std: 1.0\n",
      "X_train[1]: mean: 0.0, std: 1.0\n",
      "X_val[0]: mean: 0.1, std: 1.0\n",
      "X_val[1]: mean: 0.0, std: 1.0\n",
      "X_test[0]: mean: 0.1, std: 1.0\n",
      "X_test[1]: mean: -0.1, std: 0.9\n"
     ]
    }
   ],
   "source": [
    "# Check (means should be ~0 and std should be ~1)\n",
    "print (f\"X_train[0]: mean: {np.mean(X_train[:, 0], axis=0):.1f}, std: {np.std(X_train[:, 0], axis=0):.1f}\")\n",
    "print (f\"X_train[1]: mean: {np.mean(X_train[:, 1], axis=0):.1f}, std: {np.std(X_train[:, 1], axis=0):.1f}\")\n",
    "print (f\"X_val[0]: mean: {np.mean(X_val[:, 0], axis=0):.1f}, std: {np.std(X_val[:, 0], axis=0):.1f}\")\n",
    "print (f\"X_val[1]: mean: {np.mean(X_val[:, 1], axis=0):.1f}, std: {np.std(X_val[:, 1], axis=0):.1f}\")\n",
    "print (f\"X_test[0]: mean: {np.mean(X_test[:, 0], axis=0):.1f}, std: {np.std(X_test[:, 0], axis=0):.1f}\")\n",
    "print (f\"X_test[1]: mean: {np.mean(X_test[:, 1], axis=0):.1f}, std: {np.std(X_test[:, 1], axis=0):.1f}\")"
   ]
  },
  {
   "cell_type": "markdown",
   "metadata": {
    "colab_type": "text",
    "id": "IHofozO7RIiV"
   },
   "source": [
    "# 선형 모델"
   ]
  },
  {
   "cell_type": "markdown",
   "metadata": {
    "colab_type": "text",
    "id": "DlVmr5XkRMCf"
   },
   "source": [
    "신경망을 사용하기 전, 우리는 선형 모델(로지스틱 회귀)을 구현하고 비선형 활성화 함수의 중요성을 확인해 볼 것입니다.<br>\n",
    "먼저 선형 모델(선형 활성화 포함)이 데이터 세트에 충분하지 않은 이유를 알아보겠습니다."
   ]
  },
  {
   "cell_type": "code",
   "execution_count": 181,
   "metadata": {
    "colab": {},
    "colab_type": "code",
    "id": "4K2qHbffAeGL"
   },
   "outputs": [],
   "source": [
    "import torch"
   ]
  },
  {
   "cell_type": "code",
   "execution_count": 182,
   "metadata": {
    "colab": {
     "base_uri": "https://localhost:8080/",
     "height": 34
    },
    "colab_type": "code",
    "executionInfo": {
     "elapsed": 2443,
     "status": "ok",
     "timestamp": 1583943361948,
     "user": {
      "displayName": "Goku Mohandas",
      "photoUrl": "https://lh3.googleusercontent.com/a-/AOh14GjMIOf3R_zwS_zZx4ZyPMtQe0lOkGpPOEUEKWpM7g=s64",
      "userId": "00378334517810298963"
     },
     "user_tz": 420
    },
    "id": "bn9Kr2XrAeCR",
    "outputId": "21d0523d-3e32-41f7-a714-524bdf4dd08b"
   },
   "outputs": [
    {
     "data": {
      "text/plain": [
       "<torch._C.Generator at 0x1c0064a5690>"
      ]
     },
     "execution_count": 182,
     "metadata": {},
     "output_type": "execute_result"
    }
   ],
   "source": [
    "# Set seed for reproducibility\n",
    "torch.manual_seed(SEED)"
   ]
  },
  {
   "cell_type": "markdown",
   "metadata": {
    "colab_type": "text",
    "id": "5YkMN-nU-gz7"
   },
   "source": [
    "## Model"
   ]
  },
  {
   "cell_type": "code",
   "execution_count": 183,
   "metadata": {
    "colab": {},
    "colab_type": "code",
    "id": "hMzXPa6g-467"
   },
   "outputs": [],
   "source": [
    "from torch import nn\n",
    "import torch.nn.functional as F"
   ]
  },
  {
   "cell_type": "code",
   "execution_count": 184,
   "metadata": {
    "colab": {},
    "colab_type": "code",
    "id": "RJlz9hEe_2xX"
   },
   "outputs": [],
   "source": [
    "INPUT_DIM = X_train.shape[1] # X is 2-dimensional\n",
    "HIDDEN_DIM = 100\n",
    "NUM_CLASSES = len(classes) # 3 classes"
   ]
  },
  {
   "cell_type": "code",
   "execution_count": 185,
   "metadata": {
    "colab": {},
    "colab_type": "code",
    "id": "oolBQZaE-43y"
   },
   "outputs": [],
   "source": [
    "class LinearModel(nn.Module):\n",
    "    def __init__(self, input_dim, hidden_dim, num_classes):\n",
    "        super(LinearModel, self).__init__()\n",
    "        self.fc1 = nn.Linear(input_dim, hidden_dim)\n",
    "        self.fc2 = nn.Linear(hidden_dim, num_classes)\n",
    "        \n",
    "    def forward(self, x_in, apply_softmax=False):\n",
    "        z = self.fc1(x_in) # linear activation\n",
    "        y_pred = self.fc2(z)\n",
    "        if apply_softmax:\n",
    "            y_pred = F.softmax(y_pred, dim=1) \n",
    "        return y_pred"
   ]
  },
  {
   "cell_type": "code",
   "execution_count": 186,
   "metadata": {
    "colab": {
     "base_uri": "https://localhost:8080/",
     "height": 340
    },
    "colab_type": "code",
    "executionInfo": {
     "elapsed": 325,
     "status": "ok",
     "timestamp": 1583943383373,
     "user": {
      "displayName": "Goku Mohandas",
      "photoUrl": "https://lh3.googleusercontent.com/a-/AOh14GjMIOf3R_zwS_zZx4ZyPMtQe0lOkGpPOEUEKWpM7g=s64",
      "userId": "00378334517810298963"
     },
     "user_tz": 420
    },
    "id": "q1aORSTK-41F",
    "outputId": "e0eddab6-b3cb-434c-ae31-d029c4451172"
   },
   "outputs": [
    {
     "name": "stdout",
     "output_type": "stream",
     "text": [
      "<bound method Module.named_parameters of LinearModel(\n",
      "  (fc1): Linear(in_features=2, out_features=100, bias=True)\n",
      "  (fc2): Linear(in_features=100, out_features=3, bias=True)\n",
      ")>\n"
     ]
    }
   ],
   "source": [
    "# Initialize model\n",
    "model = LinearModel(input_dim=INPUT_DIM, hidden_dim=HIDDEN_DIM, num_classes=NUM_CLASSES)\n",
    "print (model.named_parameters)"
   ]
  },
  {
   "cell_type": "markdown",
   "metadata": {
    "colab_type": "text",
    "id": "AUdgkiuRBZIo"
   },
   "source": [
    "## Training"
   ]
  },
  {
   "cell_type": "code",
   "execution_count": 187,
   "metadata": {
    "colab": {},
    "colab_type": "code",
    "id": "SiqIcs6FBo70"
   },
   "outputs": [],
   "source": [
    "from torch.optim import Adam"
   ]
  },
  {
   "cell_type": "code",
   "execution_count": 188,
   "metadata": {
    "colab": {},
    "colab_type": "code",
    "id": "UmOydQRnBYqc"
   },
   "outputs": [],
   "source": [
    "LEARNING_RATE = 1e-2\n",
    "NUM_EPOCHS = 10\n",
    "BATCH_SIZE = 32"
   ]
  },
  {
   "cell_type": "code",
   "execution_count": 189,
   "metadata": {
    "colab": {},
    "colab_type": "code",
    "id": "qg8YRdv9AZ6p"
   },
   "outputs": [],
   "source": [
    "# Loss\n",
    "weights = torch.Tensor([class_weights[key] for key in sorted(class_weights.keys())])\n",
    "loss_fn = nn.CrossEntropyLoss(weight=weights)"
   ]
  },
  {
   "cell_type": "code",
   "execution_count": 190,
   "metadata": {
    "colab": {},
    "colab_type": "code",
    "id": "NFwrk5E2AZ2g"
   },
   "outputs": [],
   "source": [
    "# Accuracy\n",
    "def accuracy_fn(y_pred, y_true):\n",
    "    n_correct = torch.eq(y_pred, y_true).sum().item()\n",
    "    accuracy = (n_correct / len(y_pred)) * 100\n",
    "    return accuracy"
   ]
  },
  {
   "cell_type": "code",
   "execution_count": 191,
   "metadata": {
    "colab": {},
    "colab_type": "code",
    "id": "dVA58YPNc2_f"
   },
   "outputs": [],
   "source": [
    "# Optimizer\n",
    "optimizer = Adam(model.parameters(), lr=LEARNING_RATE) "
   ]
  },
  {
   "cell_type": "code",
   "execution_count": 192,
   "metadata": {
    "colab": {},
    "colab_type": "code",
    "id": "bpBgduAbadfa"
   },
   "outputs": [],
   "source": [
    "# Convert data to tensors\n",
    "X_train = torch.Tensor(X_train)\n",
    "y_train = torch.LongTensor(y_train)\n",
    "X_val = torch.Tensor(X_val)\n",
    "y_val = torch.LongTensor(y_val)\n",
    "X_test = torch.Tensor(X_test)\n",
    "y_test = torch.LongTensor(y_test)"
   ]
  },
  {
   "cell_type": "code",
   "execution_count": 193,
   "metadata": {
    "colab": {
     "base_uri": "https://localhost:8080/",
     "height": 187
    },
    "colab_type": "code",
    "executionInfo": {
     "elapsed": 510,
     "status": "ok",
     "timestamp": 1583943908169,
     "user": {
      "displayName": "Goku Mohandas",
      "photoUrl": "https://lh3.googleusercontent.com/a-/AOh14GjMIOf3R_zwS_zZx4ZyPMtQe0lOkGpPOEUEKWpM7g=s64",
      "userId": "00378334517810298963"
     },
     "user_tz": 420
    },
    "id": "47LEsByWc3bp",
    "outputId": "2eeaf0fe-5e96-4850-f9db-ffe12a276b12"
   },
   "outputs": [
    {
     "name": "stdout",
     "output_type": "stream",
     "text": [
      "Epoch: 0 | loss: 1.13, accuracy: 50.0\n",
      "Epoch: 1 | loss: 0.91, accuracy: 51.0\n",
      "Epoch: 2 | loss: 0.79, accuracy: 55.2\n",
      "Epoch: 3 | loss: 0.74, accuracy: 54.8\n",
      "Epoch: 4 | loss: 0.74, accuracy: 53.4\n",
      "Epoch: 5 | loss: 0.75, accuracy: 53.6\n",
      "Epoch: 6 | loss: 0.76, accuracy: 53.6\n",
      "Epoch: 7 | loss: 0.77, accuracy: 53.6\n",
      "Epoch: 8 | loss: 0.78, accuracy: 53.6\n",
      "Epoch: 9 | loss: 0.78, accuracy: 53.5\n"
     ]
    }
   ],
   "source": [
    "# Training\n",
    "for epoch in range(NUM_EPOCHS):\n",
    "    # Forward pass\n",
    "    y_pred = model(X_train)\n",
    "\n",
    "    # Loss\n",
    "    loss = loss_fn(y_pred, y_train)\n",
    "\n",
    "    # Zero all gradients\n",
    "    optimizer.zero_grad()\n",
    "\n",
    "    # Backward pass\n",
    "    loss.backward()\n",
    "\n",
    "    # Update weights\n",
    "    optimizer.step()\n",
    "\n",
    "    if epoch%1==0: \n",
    "        predictions = y_pred.max(dim=1)[1] # class\n",
    "        accuracy = accuracy_fn(y_pred=predictions, y_true=y_train)\n",
    "        print (f\"Epoch: {epoch} | loss: {loss:.2f}, accuracy: {accuracy:.1f}\")"
   ]
  },
  {
   "cell_type": "markdown",
   "metadata": {
    "colab_type": "text",
    "id": "_gIcdLFeCLR_"
   },
   "source": [
    "## Evaluation"
   ]
  },
  {
   "cell_type": "code",
   "execution_count": 194,
   "metadata": {
    "colab": {},
    "colab_type": "code",
    "id": "TyfL-k6uBzMW"
   },
   "outputs": [],
   "source": [
    "import itertools\n",
    "from sklearn.metrics import accuracy_score\n",
    "from sklearn.metrics import classification_report\n",
    "from sklearn.metrics import confusion_matrix"
   ]
  },
  {
   "cell_type": "code",
   "execution_count": 195,
   "metadata": {
    "colab": {},
    "colab_type": "code",
    "id": "JcfmjyWHBKeA"
   },
   "outputs": [],
   "source": [
    "def plot_confusion_matrix(y_true, y_pred, classes, cmap=plt.cm.Blues):\n",
    "    \"\"\"Plot a confusion matrix using ground truth and predictions.\"\"\"\n",
    "    # Confusion matrix\n",
    "    cm = confusion_matrix(y_true, y_pred)\n",
    "    cm_norm = cm.astype('float') / cm.sum(axis=1)[:, np.newaxis]\n",
    "\n",
    "    #  Figure\n",
    "    fig = plt.figure()\n",
    "    ax = fig.add_subplot(111)\n",
    "    cax = ax.matshow(cm, cmap=plt.cm.Blues)\n",
    "    fig.colorbar(cax)\n",
    "\n",
    "    # Axis\n",
    "    plt.title(\"Confusion matrix\")\n",
    "    plt.ylabel(\"True label\")\n",
    "    plt.xlabel(\"Predicted label\")\n",
    "    ax.set_xticklabels([''] + classes)\n",
    "    ax.set_yticklabels([''] + classes)\n",
    "    ax.xaxis.set_label_position('bottom') \n",
    "    ax.xaxis.tick_bottom()\n",
    "\n",
    "    # Values\n",
    "    thresh = cm.max() / 2.\n",
    "    for i, j in itertools.product(range(cm.shape[0]), range(cm.shape[1])):\n",
    "        plt.text(j, i, f\"{cm[i, j]:d} ({cm_norm[i, j]*100:.1f}%)\",\n",
    "                 horizontalalignment=\"center\",\n",
    "                 color=\"white\" if cm[i, j] > thresh else \"black\")\n",
    "\n",
    "    # Display\n",
    "    plt.show()"
   ]
  },
  {
   "cell_type": "code",
   "execution_count": 196,
   "metadata": {
    "colab": {},
    "colab_type": "code",
    "id": "gdzQ8LVuGJL3"
   },
   "outputs": [],
   "source": [
    "def plot_multiclass_decision_boundary(model, X, y):\n",
    "    x_min, x_max = X[:, 0].min() - 0.1, X[:, 0].max() + 0.1\n",
    "    y_min, y_max = X[:, 1].min() - 0.1, X[:, 1].max() + 0.1\n",
    "    xx, yy = np.meshgrid(np.linspace(x_min, x_max, 101), np.linspace(y_min, y_max, 101))\n",
    "    cmap = plt.cm.Spectral\n",
    "    \n",
    "    X_test = torch.from_numpy(np.c_[xx.ravel(), yy.ravel()]).float()\n",
    "    y_pred = model(X_test, apply_softmax=True)\n",
    "    _, y_pred = y_pred.max(dim=1)\n",
    "    y_pred = y_pred.reshape(xx.shape)\n",
    "    plt.contourf(xx, yy, y_pred, cmap=plt.cm.Spectral, alpha=0.8)\n",
    "    plt.scatter(X[:, 0], X[:, 1], c=y, s=40, cmap=plt.cm.RdYlBu)\n",
    "    plt.xlim(xx.min(), xx.max())\n",
    "    plt.ylim(yy.min(), yy.max())"
   ]
  },
  {
   "cell_type": "code",
   "execution_count": 197,
   "metadata": {
    "colab": {
     "base_uri": "https://localhost:8080/",
     "height": 51
    },
    "colab_type": "code",
    "executionInfo": {
     "elapsed": 414,
     "status": "ok",
     "timestamp": 1583943912211,
     "user": {
      "displayName": "Goku Mohandas",
      "photoUrl": "https://lh3.googleusercontent.com/a-/AOh14GjMIOf3R_zwS_zZx4ZyPMtQe0lOkGpPOEUEKWpM7g=s64",
      "userId": "00378334517810298963"
     },
     "user_tz": 420
    },
    "id": "Au0tESHKC8Rj",
    "outputId": "06c857ea-1d5b-4356-a657-3cda5d66d6a9"
   },
   "outputs": [
    {
     "name": "stdout",
     "output_type": "stream",
     "text": [
      "sample probability: tensor([0.0027, 0.0409, 0.9564], grad_fn=<SelectBackward>)\n",
      "sample class: 2\n"
     ]
    }
   ],
   "source": [
    "# Predictions\n",
    "pred_train = model(X_train, apply_softmax=True)\n",
    "pred_test = model(X_test, apply_softmax=True)\n",
    "print (f\"sample probability: {pred_test[0]}\")\n",
    "pred_train = pred_train.max(dim=1)[1]\n",
    "pred_test = pred_test.max(dim=1)[1]\n",
    "print (f\"sample class: {pred_test[0]}\")"
   ]
  },
  {
   "cell_type": "code",
   "execution_count": 198,
   "metadata": {
    "colab": {
     "base_uri": "https://localhost:8080/",
     "height": 34
    },
    "colab_type": "code",
    "executionInfo": {
     "elapsed": 1397,
     "status": "ok",
     "timestamp": 1583943913800,
     "user": {
      "displayName": "Goku Mohandas",
      "photoUrl": "https://lh3.googleusercontent.com/a-/AOh14GjMIOf3R_zwS_zZx4ZyPMtQe0lOkGpPOEUEKWpM7g=s64",
      "userId": "00378334517810298963"
     },
     "user_tz": 420
    },
    "id": "pKE1ZfJRb1b4",
    "outputId": "5cb1bee7-870e-491f-aa1d-e885cdc2d744"
   },
   "outputs": [
    {
     "name": "stdout",
     "output_type": "stream",
     "text": [
      "train acc: 0.54, test acc: 0.54\n"
     ]
    }
   ],
   "source": [
    "# Accuracy\n",
    "train_acc = accuracy_score(y_train, pred_train)\n",
    "test_acc = accuracy_score(y_test, pred_test)\n",
    "print (f\"train acc: {train_acc:.2f}, test acc: {test_acc:.2f}\")"
   ]
  },
  {
   "cell_type": "code",
   "execution_count": 199,
   "metadata": {
    "colab": {
     "base_uri": "https://localhost:8080/",
     "height": 476
    },
    "colab_type": "code",
    "executionInfo": {
     "elapsed": 944,
     "status": "ok",
     "timestamp": 1583943914015,
     "user": {
      "displayName": "Goku Mohandas",
      "photoUrl": "https://lh3.googleusercontent.com/a-/AOh14GjMIOf3R_zwS_zZx4ZyPMtQe0lOkGpPOEUEKWpM7g=s64",
      "userId": "00378334517810298963"
     },
     "user_tz": 420
    },
    "id": "M3NVCzLWsCe3",
    "outputId": "d1478321-2247-4642-9bdf-e4a43cf6e826"
   },
   "outputs": [
    {
     "name": "stderr",
     "output_type": "stream",
     "text": [
      "<ipython-input-195-c4b3e1cd4909>:17: UserWarning: FixedFormatter should only be used together with FixedLocator\n",
      "  ax.set_xticklabels([''] + classes)\n",
      "<ipython-input-195-c4b3e1cd4909>:18: UserWarning: FixedFormatter should only be used together with FixedLocator\n",
      "  ax.set_yticklabels([''] + classes)\n"
     ]
    },
    {
     "data": {
      "image/png": "[encoded data removed]",
      "text/plain": [
       "<Figure size 432x288 with 2 Axes>"
      ]
     },
     "metadata": {
      "needs_background": "light"
     },
     "output_type": "display_data"
    },
    {
     "name": "stdout",
     "output_type": "stream",
     "text": [
      "              precision    recall  f1-score   support\n",
      "\n",
      "           0       0.53      0.59      0.56        75\n",
      "           1       0.51      0.45      0.48        75\n",
      "           2       0.59      0.59      0.59        75\n",
      "\n",
      "    accuracy                           0.54       225\n",
      "   macro avg       0.54      0.54      0.54       225\n",
      "weighted avg       0.54      0.54      0.54       225\n",
      "\n"
     ]
    }
   ],
   "source": [
    "# Metrics\n",
    "plot_confusion_matrix(y_test, pred_test, classes=classes)\n",
    "print (classification_report(y_test, pred_test))"
   ]
  },
  {
   "cell_type": "code",
   "execution_count": 200,
   "metadata": {
    "colab": {
     "base_uri": "https://localhost:8080/",
     "height": 336
    },
    "colab_type": "code",
    "executionInfo": {
     "elapsed": 1010,
     "status": "ok",
     "timestamp": 1583943914669,
     "user": {
      "displayName": "Goku Mohandas",
      "photoUrl": "https://lh3.googleusercontent.com/a-/AOh14GjMIOf3R_zwS_zZx4ZyPMtQe0lOkGpPOEUEKWpM7g=s64",
      "userId": "00378334517810298963"
     },
     "user_tz": 420
    },
    "id": "gGfevv1kusw8",
    "outputId": "ac0f6bd3-aace-42a4-cd7f-7ef7e1f5d9db"
   },
   "outputs": [
    {
     "data": {
      "image/png": "[encoded data removed]",
      "text/plain": [
       "<Figure size 864x360 with 2 Axes>"
      ]
     },
     "metadata": {
      "needs_background": "light"
     },
     "output_type": "display_data"
    }
   ],
   "source": [
    "# Visualize the decision boundary\n",
    "plt.figure(figsize=(12,5))\n",
    "plt.subplot(1, 2, 1)\n",
    "plt.title(\"Train\")\n",
    "plot_multiclass_decision_boundary(model=model, X=X_train, y=y_train)\n",
    "plt.subplot(1, 2, 2)\n",
    "plt.title(\"Test\")\n",
    "plot_multiclass_decision_boundary(model=model, X=X_test, y=y_test)\n",
    "plt.show()"
   ]
  },
  {
   "cell_type": "markdown",
   "metadata": {
    "colab_type": "text",
    "id": "R3OK8p-Ng3BC"
   },
   "source": [
    "# 활성화 함수"
   ]
  },
  {
   "cell_type": "markdown",
   "metadata": {
    "colab_type": "text",
    "id": "ghf5uLuhg3D0"
   },
   "source": [
    "선형 기법을 사용했지만 데이터에 존재하는 <font color=red>비선형성</font> 때문에 좋지 않은 결과를 얻었었고, 이때의 활성화 함수는 __선형__ 이었습니다.<br>\n",
    "모델이 데이터의 비선형성을 학습하기 위해서는 <font color=blue>비선형 활성 함수</font>를 사용해야 합니다.<br>\n",
    "다양한 옵션이 있으므로 몇 가지를 살펴보겠습니다."
   ]
  },
  {
   "cell_type": "code",
   "execution_count": 201,
   "metadata": {
    "colab": {
     "base_uri": "https://localhost:8080/",
     "height": 227
    },
    "colab_type": "code",
    "executionInfo": {
     "elapsed": 1172,
     "status": "ok",
     "timestamp": 1583943917186,
     "user": {
      "displayName": "Goku Mohandas",
      "photoUrl": "https://lh3.googleusercontent.com/a-/AOh14GjMIOf3R_zwS_zZx4ZyPMtQe0lOkGpPOEUEKWpM7g=s64",
      "userId": "00378334517810298963"
     },
     "user_tz": 420
    },
    "id": "ivnfSKEhg3Md",
    "outputId": "2068067b-2085-4dff-93ca-d6cb8743de3b"
   },
   "outputs": [
    {
     "data": {
      "image/png": "[encoded data removed]",
      "text/plain": [
       "<Figure size 864x216 with 3 Axes>"
      ]
     },
     "metadata": {
      "needs_background": "light"
     },
     "output_type": "display_data"
    }
   ],
   "source": [
    "# Fig size\n",
    "plt.figure(figsize=(12,3))\n",
    "\n",
    "# Data\n",
    "x = torch.arange(-5., 5., 0.1)\n",
    "\n",
    "# Sigmoid activation (constrain a value between 0 and 1.)\n",
    "plt.subplot(1, 3, 1)\n",
    "plt.title(\"Sigmoid activation\")\n",
    "y = torch.sigmoid(x)\n",
    "plt.plot(x.numpy(), y.numpy())\n",
    "\n",
    "# Tanh activation (constrain a value between -1 and 1.)\n",
    "plt.subplot(1, 3, 2)\n",
    "y = torch.tanh(x)\n",
    "plt.title(\"Tanh activation\")\n",
    "plt.plot(x.numpy(), y.numpy())\n",
    "\n",
    "# Relu (clip the negative values to 0)\n",
    "plt.subplot(1, 3, 3)\n",
    "y = F.relu(x)\n",
    "plt.title(\"ReLU activation\")\n",
    "plt.plot(x.numpy(), y.numpy())\n",
    "\n",
    "# Show plots\n",
    "plt.show()"
   ]
  },
  {
   "cell_type": "markdown",
   "metadata": {
    "colab_type": "text",
    "id": "b_yo9fwwciDY"
   },
   "source": [
    "_ReLU 활성 함수 ($max(0,z)$)_ 는 신경망에서 __가장 널리 사용__ 되는 활성 함수입니다.<br>\n",
    "하지만 보이는 것처럼, 각 활성화 함수는 고유한 제약 조건이 있으므로 상황에 따라 적절한 활성화 함수를 사용해야 합니다.<br>\n",
    "예를들어, 만약 우리의 출력을 0 ~ 1로 제한한다면, <font color = blue>시그모이드</font>가 가장 적절합니다."
   ]
  },
  {
   "cell_type": "markdown",
   "metadata": {
    "colab_type": "text",
    "id": "u72au7H9oHk7"
   },
   "source": [
    "**NOTE**: 몇 몇 경우, ReLU 활성화 함수를 사용하는 것은 적절하지 않을 수 있습니다. <br>\n",
    "예를 들어, 출력의 대부분이 음수인 경우 0 이하의 값은 0으로 취급되기 때문에 이 경우에는 ReLU를 사용하지 않아야 합니다.<br>\n",
    "이 현상을 <font color = red>\"dying ReLU\"</font>라고 부르고 이는 해결하기 쉽지 않습니다.<br>\n",
    "이러한 경우를 위해, 학습률을 낮추거나 [기타 ReLU 계열 활성 함수들](https://medium.com/tinymind/a-practical-guide-to-relu-b83ca804f1f7)을 사용할 수 있습니다. (ex. leaky ReLU, parametric ReLU(PReLU) 등)"
   ]
  },
  {
   "cell_type": "markdown",
   "metadata": {
    "colab_type": "text",
    "id": "xqWpi0X2dWpe"
   },
   "source": [
    "# NumPy\n",
    "\n",
    "이제 앞에서 정의한 선형 모델과 같지만, 활성화 함수를 통해 데이터의 비선형성을 매핑하는 MLP를 생성해보겠습니다.\n",
    "\n",
    "**NOTE**: 이 섹션에서 다루는 수식과 코드가 약간 복잡하다 생각하는것은 정상입니다. 몇 번이고 다시 읽어 자신의 것으로 만드세요!"
   ]
  },
  {
   "cell_type": "markdown",
   "metadata": {
    "colab_type": "text",
    "id": "pB1N3X34EHLS"
   },
   "source": [
    "## Initialize weights"
   ]
  },
  {
   "cell_type": "markdown",
   "metadata": {
    "colab_type": "text",
    "id": "a25Zg2yyvhKL"
   },
   "source": [
    "1. 모델의 가중치 $W$를 무작위로 초기화합니다. (이번 튜토리얼의 뒷 부분에서 더 효율적인 초기화 전략을 다룰 것입니다.)"
   ]
  },
  {
   "cell_type": "code",
   "execution_count": 202,
   "metadata": {
    "colab": {
     "base_uri": "https://localhost:8080/",
     "height": 51
    },
    "colab_type": "code",
    "executionInfo": {
     "elapsed": 636,
     "status": "ok",
     "timestamp": 1583943920677,
     "user": {
      "displayName": "Goku Mohandas",
      "photoUrl": "https://lh3.googleusercontent.com/a-/AOh14GjMIOf3R_zwS_zZx4ZyPMtQe0lOkGpPOEUEKWpM7g=s64",
      "userId": "00378334517810298963"
     },
     "user_tz": 420
    },
    "id": "Y3udiI1Idr62",
    "outputId": "2d6606df-d0fa-4a94-ca80-a17bce6eb0c8"
   },
   "outputs": [
    {
     "name": "stdout",
     "output_type": "stream",
     "text": [
      "W1: (2, 100)\n",
      "b1: (1, 100)\n"
     ]
    }
   ],
   "source": [
    "# Initialize first layer's weights\n",
    "W1 = 0.01 * np.random.randn(INPUT_DIM, HIDDEN_DIM)\n",
    "b1 = np.zeros((1, HIDDEN_DIM))\n",
    "print (f\"W1: {W1.shape}\")\n",
    "print (f\"b1: {b1.shape}\")"
   ]
  },
  {
   "cell_type": "markdown",
   "metadata": {
    "colab_type": "text",
    "id": "oxF3FnErEKfr"
   },
   "source": [
    "## Model"
   ]
  },
  {
   "cell_type": "markdown",
   "metadata": {
    "colab_type": "text",
    "id": "CqllhIMgxGq7"
   },
   "source": [
    "2. 순방향 패스를 수행하고 확률을 받기위해 모델에 입력 $X$를 줍니다."
   ]
  },
  {
   "cell_type": "markdown",
   "metadata": {
    "colab_type": "text",
    "id": "pH9-D8YE4pHH"
   },
   "source": [
    "첫 번째로 우리는 첫번째 레이어에 입력을 줍니다.\n",
    "  * $z_1 = XW_1$"
   ]
  },
  {
   "cell_type": "code",
   "execution_count": 203,
   "metadata": {
    "colab": {
     "base_uri": "https://localhost:8080/",
     "height": 34
    },
    "colab_type": "code",
    "executionInfo": {
     "elapsed": 793,
     "status": "ok",
     "timestamp": 1583943923104,
     "user": {
      "displayName": "Goku Mohandas",
      "photoUrl": "https://lh3.googleusercontent.com/a-/AOh14GjMIOf3R_zwS_zZx4ZyPMtQe0lOkGpPOEUEKWpM7g=s64",
      "userId": "00378334517810298963"
     },
     "user_tz": 420
    },
    "id": "TAeYeoMtdr-t",
    "outputId": "36deb286-7f14-4624-fe47-8adabafab6a5"
   },
   "outputs": [
    {
     "name": "stdout",
     "output_type": "stream",
     "text": [
      "z1: (1083, 100)\n"
     ]
    }
   ],
   "source": [
    "# z1 = [NX2] · [2X100] + [1X100] = [NX100]\n",
    "z1 = np.dot(X_train, W1) + b1\n",
    "print (f\"z1: {z1.shape}\")"
   ]
  },
  {
   "cell_type": "markdown",
   "metadata": {
    "colab_type": "text",
    "id": "15yZEt903YOO"
   },
   "source": [
    "다음으로 비선형 활성함수를 적용해보겠습니다. (이 경우 ReLU ($max(0,z)$))\n",
    "  * $a_1 = f(z_1)$"
   ]
  },
  {
   "cell_type": "code",
   "execution_count": 204,
   "metadata": {
    "colab": {
     "base_uri": "https://localhost:8080/",
     "height": 34
    },
    "colab_type": "code",
    "executionInfo": {
     "elapsed": 357,
     "status": "ok",
     "timestamp": 1583943923865,
     "user": {
      "displayName": "Goku Mohandas",
      "photoUrl": "https://lh3.googleusercontent.com/a-/AOh14GjMIOf3R_zwS_zZx4ZyPMtQe0lOkGpPOEUEKWpM7g=s64",
      "userId": "00378334517810298963"
     },
     "user_tz": 420
    },
    "id": "yAFau-Zm3YVM",
    "outputId": "2517437a-cb54-4687-cfa1-3472d8f44b9f"
   },
   "outputs": [
    {
     "name": "stdout",
     "output_type": "stream",
     "text": [
      "a_1: (1083, 100)\n"
     ]
    }
   ],
   "source": [
    "# Apply activation function\n",
    "a1 = np.maximum(0, z1) # ReLU\n",
    "print (f\"a_1: {a1.shape}\")"
   ]
  },
  {
   "cell_type": "markdown",
   "metadata": {
    "colab_type": "text",
    "id": "gNHCPVa03YGB"
   },
   "source": [
    "활성화된 결과를 두 번째 레이어로 전달합니다.\n",
    "  * $z_2 = a_1W_2$"
   ]
  },
  {
   "cell_type": "code",
   "execution_count": 205,
   "metadata": {
    "colab": {
     "base_uri": "https://localhost:8080/",
     "height": 51
    },
    "colab_type": "code",
    "executionInfo": {
     "elapsed": 463,
     "status": "ok",
     "timestamp": 1583943925359,
     "user": {
      "displayName": "Goku Mohandas",
      "photoUrl": "https://lh3.googleusercontent.com/a-/AOh14GjMIOf3R_zwS_zZx4ZyPMtQe0lOkGpPOEUEKWpM7g=s64",
      "userId": "00378334517810298963"
     },
     "user_tz": 420
    },
    "id": "kyJS1y2o3YJb",
    "outputId": "97681475-2e36-4bb5-9ed1-82b237d1d59d"
   },
   "outputs": [
    {
     "name": "stdout",
     "output_type": "stream",
     "text": [
      "W2: (100, 3)\n",
      "b2: (1, 3)\n"
     ]
    }
   ],
   "source": [
    "# Initialize second layer's weights\n",
    "W2 = 0.01 * np.random.randn(HIDDEN_DIM, NUM_CLASSES)\n",
    "b2 = np.zeros((1, NUM_CLASSES))\n",
    "print (f\"W2: {W2.shape}\")\n",
    "print (f\"b2: {b2.shape}\")"
   ]
  },
  {
   "cell_type": "code",
   "execution_count": 206,
   "metadata": {
    "colab": {
     "base_uri": "https://localhost:8080/",
     "height": 51
    },
    "colab_type": "code",
    "executionInfo": {
     "elapsed": 414,
     "status": "ok",
     "timestamp": 1583943926003,
     "user": {
      "displayName": "Goku Mohandas",
      "photoUrl": "https://lh3.googleusercontent.com/a-/AOh14GjMIOf3R_zwS_zZx4ZyPMtQe0lOkGpPOEUEKWpM7g=s64",
      "userId": "00378334517810298963"
     },
     "user_tz": 420
    },
    "id": "k_sCtbVh5DfI",
    "outputId": "c29260af-3740-4aaa-d4db-a19bffc4c0be"
   },
   "outputs": [
    {
     "name": "stdout",
     "output_type": "stream",
     "text": [
      "logits: (1083, 3)\n",
      "sample: [ 0.0004134   0.0002782  -0.00118021]\n"
     ]
    }
   ],
   "source": [
    "# z2 = logits = [NX100] · [100X3] + [1X3] = [NX3]\n",
    "logits = np.dot(a1, W2) + b2\n",
    "print (f\"logits: {logits.shape}\")\n",
    "print (f\"sample: {logits[0]}\")"
   ]
  },
  {
   "cell_type": "markdown",
   "metadata": {
    "colab_type": "text",
    "id": "6r_NhZuP3X5g"
   },
   "source": [
    "두 번째 레이어를 통과해 나온 결과를 정규화하고 클래스 확률을 얻기 위해 softmax 함수를 적용합니다.\n",
    "  * $\\hat{y} = softmax(z_2)$"
   ]
  },
  {
   "cell_type": "code",
   "execution_count": 207,
   "metadata": {
    "colab": {
     "base_uri": "https://localhost:8080/",
     "height": 51
    },
    "colab_type": "code",
    "executionInfo": {
     "elapsed": 495,
     "status": "ok",
     "timestamp": 1583943927415,
     "user": {
      "displayName": "Goku Mohandas",
      "photoUrl": "https://lh3.googleusercontent.com/a-/AOh14GjMIOf3R_zwS_zZx4ZyPMtQe0lOkGpPOEUEKWpM7g=s64",
      "userId": "00378334517810298963"
     },
     "user_tz": 420
    },
    "id": "wI3jpHGJ3X_i",
    "outputId": "5fba18ee-93cc-4848-ae4a-e4513e5211cf"
   },
   "outputs": [
    {
     "name": "stdout",
     "output_type": "stream",
     "text": [
      "y_hat: (1083, 3)\n",
      "sample: [0.33352539 0.3334803  0.33299431]\n"
     ]
    }
   ],
   "source": [
    "# Normalization via softmax to obtain class probabilities\n",
    "exp_logits = np.exp(logits)\n",
    "y_hat = exp_logits / np.sum(exp_logits, axis=1, keepdims=True)\n",
    "print (f\"y_hat: {y_hat.shape}\")\n",
    "print (f\"sample: {y_hat[0]}\")"
   ]
  },
  {
   "cell_type": "markdown",
   "metadata": {
    "colab_type": "text",
    "id": "AhbLV8h7EPUT"
   },
   "source": [
    "## Loss"
   ]
  },
  {
   "cell_type": "markdown",
   "metadata": {
    "colab_type": "text",
    "id": "_VzjdcZG2h_h"
   },
   "source": [
    "3. 타겟 값 $y$(ex. 클래스 2인 경우: [0, 0, 1])와 예측 값 $\\hat{y}$(ex. [0.3, 0.3, 0.4]])을 비교해 목적 함수(손실 함수)로 손실 값 $J$를 얻습니다. <br>\n",
    "대부분의 분류 문제를 위한 손실 함수들은 __크로스 엔트로피 손실 함수__입니다.\n",
    "  * $J(\\theta) = - \\sum_i ln(\\hat{y_i}) = - \\sum_i ln (\\frac{e^{X_iW_y}}{\\sum_j e^{X_iW}}) $"
   ]
  },
  {
   "cell_type": "code",
   "execution_count": 208,
   "metadata": {
    "colab": {},
    "colab_type": "code",
    "id": "0llchiDhxGGI"
   },
   "outputs": [],
   "source": [
    "# Loss\n",
    "correct_class_logprobs = -np.log(y_hat[range(len(y_hat)), y_train])\n",
    "loss = np.sum(correct_class_logprobs) / len(y_train)"
   ]
  },
  {
   "cell_type": "markdown",
   "metadata": {
    "colab_type": "text",
    "id": "OsLXL8rxEYE6"
   },
   "source": [
    "## Gradients"
   ]
  },
  {
   "cell_type": "markdown",
   "metadata": {
    "colab_type": "text",
    "id": "6y4ZWFp32jd2"
   },
   "source": [
    "4. 모델 가중치의 손실 $J(\\theta)$의 경사를 계산하기\n",
    "\n",
    "W2에 대한 손실의 기울기는 $\\hat{y} = softmax(z_2)$ 때문에 로지스틱 회귀의 기울기와 같습니다.\n",
    " * $\\frac{\\partial{J}}{\\partial{W_{2j}}} = \\frac{\\partial{J}}{\\partial{\\hat{y}}}\\frac{\\partial{\\hat{y}}}{\\partial{W_{2j}}} = - \\frac{1}{\\hat{y}}\\frac{\\partial{\\hat{y}}}{\\partial{W_{2j}}} = - \\frac{1}{\\frac{e^{W_{2y}a_1}}{\\sum_j e^{a_1W}}}\\frac{\\sum_j e^{a_1W}e^{a_1W_{2y}}0 - e^{a_1W_{2y}}e^{a_1W_{2j}}a_1}{(\\sum_j e^{a_1W})^2} = \\frac{a_1e^{a_1W_{2j}}}{\\sum_j e^{a_1W}} = a_1\\hat{y}$\n",
    "  * $\\frac{\\partial{J}}{\\partial{W_{2y}}} = \\frac{\\partial{J}}{\\partial{\\hat{y}}}\\frac{\\partial{\\hat{y}}}{\\partial{W_{2y}}} = - \\frac{1}{\\hat{y}}\\frac{\\partial{\\hat{y}}}{\\partial{W_{2y}}} = - \\frac{1}{\\frac{e^{W_{2y}a_1}}{\\sum_j e^{a_1W}}}\\frac{\\sum_j e^{a_1W}e^{a_1W_{2y}}a_1 - e^{a_1W_{2y}}e^{a_1W_{2y}}a_1}{(\\sum_j e^{a_1W})^2} = \\frac{1}{\\hat{y}}(a_1\\hat{y} - a_1\\hat{y}^2) = a_1(\\hat{y}-1)$\n",
    "\n",
    "  W1 손실의 기울기는 두 개의 가중치를 통해 역 전파해야하므로 약간 까다롭습니다.\n",
    "  * $ \\frac{\\partial{J}}{\\partial{W_1}} = \\frac{\\partial{J}}{\\partial{\\hat{y}}} \\frac{\\partial{\\hat{y}}}{\\partial{a_1}}  \\frac{\\partial{a_1}}{\\partial{z_1}}  \\frac{\\partial{z_1}}{\\partial{W_1}}  = W_2(\\partial{scores})(\\partial{ReLU})X $"
   ]
  },
  {
   "cell_type": "code",
   "execution_count": 209,
   "metadata": {
    "colab": {},
    "colab_type": "code",
    "id": "9D2ujwNOxGQ1"
   },
   "outputs": [],
   "source": [
    "# dJ/dW2\n",
    "dscores = y_hat\n",
    "dscores[range(len(y_hat)), y_train] -= 1\n",
    "dscores /= len(y_train)\n",
    "dW2 = np.dot(a1.T, dscores)\n",
    "db2 = np.sum(dscores, axis=0, keepdims=True)"
   ]
  },
  {
   "cell_type": "code",
   "execution_count": 210,
   "metadata": {
    "colab": {},
    "colab_type": "code",
    "id": "gEpKpAgn78h4"
   },
   "outputs": [],
   "source": [
    "# dJ/dW1\n",
    "dhidden = np.dot(dscores, W2.T)\n",
    "dhidden[a1 <= 0] = 0 # ReLu backprop\n",
    "dW1 = np.dot(X_train.T, dhidden)\n",
    "db1 = np.sum(dhidden, axis=0, keepdims=True)"
   ]
  },
  {
   "cell_type": "markdown",
   "metadata": {
    "colab_type": "text",
    "id": "tKlRXHmoEafb"
   },
   "source": [
    "## Update weights"
   ]
  },
  {
   "cell_type": "markdown",
   "metadata": {
    "colab_type": "text",
    "id": "z1j-lgGq2lb_"
   },
   "source": [
    "5. 작은 학습률 $\\alpha$를 사용해 가중치 $W$를 업데이트 합니다.<br> 업데이트는 잘못된 클래스 (j)에 대한 확률에 페널티를 주고 올바른 클래스 (y)에 대해 더 높은 확률을 주도록 합니다.\n",
    "  * $W_i = W_i - \\alpha\\frac{\\partial{J}}{\\partial{W_i}}$"
   ]
  },
  {
   "cell_type": "code",
   "execution_count": 211,
   "metadata": {
    "colab": {},
    "colab_type": "code",
    "id": "6kZoWyx-xGW8"
   },
   "outputs": [],
   "source": [
    "# Update weights\n",
    "W1 += -LEARNING_RATE * dW1\n",
    "b1 += -LEARNING_RATE * db1\n",
    "W2 += -LEARNING_RATE * dW2\n",
    "b2 += -LEARNING_RATE * db2"
   ]
  },
  {
   "cell_type": "markdown",
   "metadata": {
    "colab_type": "text",
    "id": "7K8S9rf1EdHy"
   },
   "source": [
    "## Training"
   ]
  },
  {
   "cell_type": "markdown",
   "metadata": {
    "colab_type": "text",
    "id": "6lho6k572mge"
   },
   "source": [
    "6. 모델이 잘 작동할 때까지 2 - 4 스텝을 반복합니다."
   ]
  },
  {
   "cell_type": "code",
   "execution_count": 212,
   "metadata": {
    "colab": {},
    "colab_type": "code",
    "id": "BFH0tHlZaoaS"
   },
   "outputs": [],
   "source": [
    "# Convert tensors to NumPy arrays\n",
    "X_train = X_train.numpy()\n",
    "y_train = y_train.numpy()\n",
    "X_val = X_val.numpy()\n",
    "y_val = y_val.numpy()\n",
    "X_test = X_test.numpy()\n",
    "y_test = y_test.numpy()"
   ]
  },
  {
   "cell_type": "code",
   "execution_count": 213,
   "metadata": {
    "colab": {
     "base_uri": "https://localhost:8080/",
     "height": 187
    },
    "colab_type": "code",
    "executionInfo": {
     "elapsed": 4903,
     "status": "ok",
     "timestamp": 1583944014525,
     "user": {
      "displayName": "Goku Mohandas",
      "photoUrl": "https://lh3.googleusercontent.com/a-/AOh14GjMIOf3R_zwS_zZx4ZyPMtQe0lOkGpPOEUEKWpM7g=s64",
      "userId": "00378334517810298963"
     },
     "user_tz": 420
    },
    "id": "ScHz7h6OxGU_",
    "outputId": "da7ca5fa-a7cf-4109-8a49-46c04617e9a6"
   },
   "outputs": [
    {
     "name": "stdout",
     "output_type": "stream",
     "text": [
      "Epoch: 0, loss: 1.099, accuracy: 0.243\n",
      "Epoch: 100, loss: 0.551, accuracy: 0.680\n",
      "Epoch: 200, loss: 0.223, accuracy: 0.912\n",
      "Epoch: 300, loss: 0.131, accuracy: 0.951\n",
      "Epoch: 400, loss: 0.090, accuracy: 0.976\n",
      "Epoch: 500, loss: 0.069, accuracy: 0.985\n",
      "Epoch: 600, loss: 0.056, accuracy: 0.994\n",
      "Epoch: 700, loss: 0.048, accuracy: 0.996\n",
      "Epoch: 800, loss: 0.043, accuracy: 0.997\n",
      "Epoch: 900, loss: 0.039, accuracy: 0.997\n"
     ]
    }
   ],
   "source": [
    "# Initialize random weights\n",
    "W1 = 0.01 * np.random.randn(INPUT_DIM, HIDDEN_DIM)\n",
    "b1 = np.zeros((1, HIDDEN_DIM))\n",
    "W2 = 0.01 * np.random.randn(HIDDEN_DIM, NUM_CLASSES)\n",
    "b2 = np.zeros((1, NUM_CLASSES))\n",
    "\n",
    "# Training loop\n",
    "for epoch_num in range(1000):\n",
    "\n",
    "    # First layer forward pass [NX2] · [2X100] = [NX100]\n",
    "    z1 = np.dot(X_train, W1) + b1\n",
    "\n",
    "    # Apply activation function\n",
    "    a1 = np.maximum(0, z1) # ReLU\n",
    "\n",
    "    # z2 = logits = [NX100] · [100X3] = [NX3]\n",
    "    logits = np.dot(a1, W2) + b2\n",
    "    \n",
    "    # Normalization via softmax to obtain class probabilities\n",
    "    exp_logits = np.exp(logits)\n",
    "    y_hat = exp_logits / np.sum(exp_logits, axis=1, keepdims=True)\n",
    "\n",
    "    # Loss\n",
    "    correct_class_logprobs = -np.log(y_hat[range(len(y_hat)), y_train])\n",
    "    loss = np.sum(correct_class_logprobs) / len(y_train)\n",
    "\n",
    "    # show progress\n",
    "    if epoch_num%100 == 0:\n",
    "        # Accuracy\n",
    "        y_pred = np.argmax(logits, axis=1)\n",
    "        accuracy =  np.mean(np.equal(y_train, y_pred))\n",
    "        print (f\"Epoch: {epoch_num}, loss: {loss:.3f}, accuracy: {accuracy:.3f}\")\n",
    "\n",
    "    # dJ/dW2\n",
    "    dscores = y_hat\n",
    "    dscores[range(len(y_hat)), y_train] -= 1\n",
    "    dscores /= len(y_train)\n",
    "    dW2 = np.dot(a1.T, dscores)\n",
    "    db2 = np.sum(dscores, axis=0, keepdims=True)\n",
    "\n",
    "    # dJ/dW1\n",
    "    dhidden = np.dot(dscores, W2.T)\n",
    "    dhidden[a1 <= 0] = 0 # ReLu backprop\n",
    "    dW1 = np.dot(X_train.T, dhidden)\n",
    "    db1 = np.sum(dhidden, axis=0, keepdims=True)\n",
    "\n",
    "    # Update weights\n",
    "    W1 += -1e0 * dW1\n",
    "    b1 += -1e0 * db1\n",
    "    W2 += -1e0 * dW2\n",
    "    b2 += -1e0 * db2"
   ]
  },
  {
   "cell_type": "code",
   "execution_count": 214,
   "metadata": {
    "colab": {},
    "colab_type": "code",
    "id": "2hDGiO6Ng8CI"
   },
   "outputs": [],
   "source": [
    "class MLPFromScratch():\n",
    "    def predict(self, x):\n",
    "        z1 = np.dot(x, W1) + b1\n",
    "        a1 = np.maximum(0, z1)\n",
    "        logits = np.dot(a1, W2) + b2\n",
    "        exp_logits = np.exp(logits)\n",
    "        y_hat = exp_logits / np.sum(exp_logits, axis=1, keepdims=True)\n",
    "        return y_hat"
   ]
  },
  {
   "cell_type": "code",
   "execution_count": 215,
   "metadata": {
    "colab": {},
    "colab_type": "code",
    "id": "Dv5Y3-1ibuPM"
   },
   "outputs": [],
   "source": [
    "# Evaluation\n",
    "model = MLPFromScratch()\n",
    "logits_train = model.predict(X_train)\n",
    "pred_train = np.argmax(logits_train, axis=1)\n",
    "logits_test = model.predict(X_test)\n",
    "pred_test = np.argmax(logits_test, axis=1)"
   ]
  },
  {
   "cell_type": "code",
   "execution_count": 216,
   "metadata": {
    "colab": {
     "base_uri": "https://localhost:8080/",
     "height": 34
    },
    "colab_type": "code",
    "executionInfo": {
     "elapsed": 934,
     "status": "ok",
     "timestamp": 1583944016488,
     "user": {
      "displayName": "Goku Mohandas",
      "photoUrl": "https://lh3.googleusercontent.com/a-/AOh14GjMIOf3R_zwS_zZx4ZyPMtQe0lOkGpPOEUEKWpM7g=s64",
      "userId": "00378334517810298963"
     },
     "user_tz": 420
    },
    "id": "XfmYidNSgkcv",
    "outputId": "7850d4f1-699d-42fa-fef8-b699db57ffe2"
   },
   "outputs": [
    {
     "name": "stdout",
     "output_type": "stream",
     "text": [
      "train acc: 1.00, test acc: 1.00\n"
     ]
    }
   ],
   "source": [
    "# Training and test accuracy\n",
    "train_acc =  np.mean(np.equal(y_train, pred_train))\n",
    "test_acc = np.mean(np.equal(y_test, pred_test))\n",
    "print (f\"train acc: {train_acc:.2f}, test acc: {test_acc:.2f}\")"
   ]
  },
  {
   "cell_type": "code",
   "execution_count": 217,
   "metadata": {
    "colab": {},
    "colab_type": "code",
    "id": "gesG_0FIdRom"
   },
   "outputs": [],
   "source": [
    "def plot_multiclass_decision_boundary_numpy(model, X, y, savefig_fp=None):\n",
    "    \"\"\"Plot the multiclass decision boundary for a model that accepts 2D inputs.\n",
    "\n",
    "    Arguments:\n",
    "        model {function} -- trained model with function model.predict(x_in).\n",
    "        X {numpy.ndarray} -- 2D inputs with shape (N, 2).\n",
    "        y {numpy.ndarray} -- 1D outputs with shape (N,).\n",
    "    \"\"\"\n",
    "    # Axis boundaries\n",
    "    x_min, x_max = X[:, 0].min() - 0.1, X[:, 0].max() + 0.1\n",
    "    y_min, y_max = X[:, 1].min() - 0.1, X[:, 1].max() + 0.1\n",
    "    xx, yy = np.meshgrid(np.linspace(x_min, x_max, 101),\n",
    "                         np.linspace(y_min, y_max, 101))\n",
    "\n",
    "    # Create predictions\n",
    "    x_in = np.c_[xx.ravel(), yy.ravel()]\n",
    "    y_pred = model.predict(x_in)\n",
    "    y_pred = np.argmax(y_pred, axis=1).reshape(xx.shape)\n",
    "\n",
    "    # Plot decision boundary\n",
    "    plt.contourf(xx, yy, y_pred, cmap=plt.cm.Spectral, alpha=0.8)\n",
    "    plt.scatter(X[:, 0], X[:, 1], c=y, s=40, cmap=plt.cm.RdYlBu)\n",
    "    plt.xlim(xx.min(), xx.max())\n",
    "    plt.ylim(yy.min(), yy.max())\n",
    "\n",
    "    # Plot\n",
    "    if savefig_fp:\n",
    "        plt.savefig(savefig_fp, format='png')"
   ]
  },
  {
   "cell_type": "code",
   "execution_count": 218,
   "metadata": {
    "colab": {
     "base_uri": "https://localhost:8080/",
     "height": 336
    },
    "colab_type": "code",
    "executionInfo": {
     "elapsed": 967,
     "status": "ok",
     "timestamp": 1583944018519,
     "user": {
      "displayName": "Goku Mohandas",
      "photoUrl": "https://lh3.googleusercontent.com/a-/AOh14GjMIOf3R_zwS_zZx4ZyPMtQe0lOkGpPOEUEKWpM7g=s64",
      "userId": "00378334517810298963"
     },
     "user_tz": 420
    },
    "id": "I5pDl4hdgkaE",
    "outputId": "3f6b6ba9-72a0-4326-9c1e-7a85adf7f08f"
   },
   "outputs": [
    {
     "data": {
      "image/png": "[encoded data removed]",
      "text/plain": [
       "<Figure size 864x360 with 2 Axes>"
      ]
     },
     "metadata": {
      "needs_background": "light"
     },
     "output_type": "display_data"
    }
   ],
   "source": [
    "# Visualize the decision boundary\n",
    "plt.figure(figsize=(12,5))\n",
    "plt.subplot(1, 2, 1)\n",
    "plt.title(\"Train\")\n",
    "plot_multiclass_decision_boundary_numpy(model=model, X=X_train, y=y_train)\n",
    "plt.subplot(1, 2, 2)\n",
    "plt.title(\"Test\")\n",
    "plot_multiclass_decision_boundary_numpy(model=model, X=X_test, y=y_test)\n",
    "plt.show()"
   ]
  },
  {
   "cell_type": "markdown",
   "metadata": {
    "colab_type": "text",
    "id": "kV2rzKCLdSEu"
   },
   "source": [
    "이제 PyTorch를 이용한 MLP 구현을 해보겠습니다."
   ]
  },
  {
   "cell_type": "markdown",
   "metadata": {
    "colab_type": "text",
    "id": "br_O_NUCjkwm"
   },
   "source": [
    "# MLP"
   ]
  },
  {
   "cell_type": "markdown",
   "metadata": {
    "colab_type": "text",
    "id": "kNwK9qm6FpVm"
   },
   "source": [
    "## Model"
   ]
  },
  {
   "cell_type": "code",
   "execution_count": 219,
   "metadata": {
    "colab": {},
    "colab_type": "code",
    "id": "YtZvQVVpvl5p"
   },
   "outputs": [],
   "source": [
    "class MLP(nn.Module):\n",
    "    def __init__(self, input_dim, hidden_dim, num_classes):\n",
    "        super(MLP, self).__init__()\n",
    "        self.fc1 = nn.Linear(input_dim, hidden_dim)\n",
    "        self.fc2 = nn.Linear(hidden_dim, num_classes)\n",
    "        \n",
    "    def forward(self, x_in, apply_softmax=False):\n",
    "        z = F.relu(self.fc1(x_in)) # ReLU activaton function added!\n",
    "        y_pred = self.fc2(z)\n",
    "        if apply_softmax:\n",
    "            y_pred = F.softmax(y_pred, dim=1) \n",
    "        return y_pred"
   ]
  },
  {
   "cell_type": "code",
   "execution_count": 220,
   "metadata": {
    "colab": {
     "base_uri": "https://localhost:8080/",
     "height": 340
    },
    "colab_type": "code",
    "executionInfo": {
     "elapsed": 399,
     "status": "ok",
     "timestamp": 1583944048399,
     "user": {
      "displayName": "Goku Mohandas",
      "photoUrl": "https://lh3.googleusercontent.com/a-/AOh14GjMIOf3R_zwS_zZx4ZyPMtQe0lOkGpPOEUEKWpM7g=s64",
      "userId": "00378334517810298963"
     },
     "user_tz": 420
    },
    "id": "NwnvrAUGFrZW",
    "outputId": "1a1a75a6-65e1-46e1-99f7-8bacc462ca6a"
   },
   "outputs": [
    {
     "name": "stdout",
     "output_type": "stream",
     "text": [
      "<bound method Module.named_parameters of MLP(\n",
      "  (fc1): Linear(in_features=2, out_features=100, bias=True)\n",
      "  (fc2): Linear(in_features=100, out_features=3, bias=True)\n",
      ")>\n"
     ]
    }
   ],
   "source": [
    "# Initialize model\n",
    "model = MLP(input_dim=INPUT_DIM, hidden_dim=HIDDEN_DIM, num_classes=NUM_CLASSES)\n",
    "print (model.named_parameters)"
   ]
  },
  {
   "cell_type": "markdown",
   "metadata": {
    "colab_type": "text",
    "id": "o942ZstYFtHm"
   },
   "source": [
    "## Training"
   ]
  },
  {
   "cell_type": "code",
   "execution_count": 221,
   "metadata": {
    "colab": {},
    "colab_type": "code",
    "id": "K5fIv-0sbpJ8"
   },
   "outputs": [],
   "source": [
    "# Loss\n",
    "weights = torch.Tensor([class_weights[key] for key in sorted(class_weights.keys())])\n",
    "loss_fn = nn.CrossEntropyLoss(weight=weights)"
   ]
  },
  {
   "cell_type": "code",
   "execution_count": 222,
   "metadata": {
    "colab": {},
    "colab_type": "code",
    "id": "TN0Jh_drczUh"
   },
   "outputs": [],
   "source": [
    "# Accuracy\n",
    "def accuracy_fn(y_pred, y_true):\n",
    "    n_correct = torch.eq(y_pred, y_true).sum().item()\n",
    "    accuracy = (n_correct / len(y_pred)) * 100\n",
    "    return accuracy"
   ]
  },
  {
   "cell_type": "code",
   "execution_count": 223,
   "metadata": {
    "colab": {},
    "colab_type": "code",
    "id": "nmeU45XF0O-U"
   },
   "outputs": [],
   "source": [
    "# Optimizer\n",
    "optimizer = Adam(model.parameters(), lr=LEARNING_RATE) "
   ]
  },
  {
   "cell_type": "code",
   "execution_count": 224,
   "metadata": {
    "colab": {},
    "colab_type": "code",
    "id": "SHKHbn4xFwjl"
   },
   "outputs": [],
   "source": [
    "# Convert data to tensors\n",
    "X_train = torch.Tensor(X_train)\n",
    "y_train = torch.LongTensor(y_train)\n",
    "X_val = torch.Tensor(X_val)\n",
    "y_val = torch.LongTensor(y_val)\n",
    "X_test = torch.Tensor(X_test)\n",
    "y_test = torch.LongTensor(y_test)"
   ]
  },
  {
   "cell_type": "code",
   "execution_count": 225,
   "metadata": {
    "colab": {
     "base_uri": "https://localhost:8080/",
     "height": 187
    },
    "colab_type": "code",
    "executionInfo": {
     "elapsed": 617,
     "status": "ok",
     "timestamp": 1583944065247,
     "user": {
      "displayName": "Goku Mohandas",
      "photoUrl": "https://lh3.googleusercontent.com/a-/AOh14GjMIOf3R_zwS_zZx4ZyPMtQe0lOkGpPOEUEKWpM7g=s64",
      "userId": "00378334517810298963"
     },
     "user_tz": 420
    },
    "id": "SJc5obfebwEp",
    "outputId": "92ef2705-b9f3-404e-c365-63ac19aa1d40"
   },
   "outputs": [
    {
     "name": "stdout",
     "output_type": "stream",
     "text": [
      "Epoch: 0 | loss: 1.11, accuracy: 23.5\n",
      "Epoch: 10 | loss: 0.66, accuracy: 55.9\n",
      "Epoch: 20 | loss: 0.50, accuracy: 71.8\n",
      "Epoch: 30 | loss: 0.37, accuracy: 88.4\n",
      "Epoch: 40 | loss: 0.27, accuracy: 91.9\n",
      "Epoch: 50 | loss: 0.21, accuracy: 93.8\n",
      "Epoch: 60 | loss: 0.16, accuracy: 94.9\n",
      "Epoch: 70 | loss: 0.14, accuracy: 96.6\n",
      "Epoch: 80 | loss: 0.12, accuracy: 97.2\n",
      "Epoch: 90 | loss: 0.10, accuracy: 97.9\n"
     ]
    }
   ],
   "source": [
    "# Training\n",
    "for epoch in range(NUM_EPOCHS*10):\n",
    "    # Forward pass\n",
    "    y_pred = model(X_train)\n",
    "\n",
    "    # Loss\n",
    "    loss = loss_fn(y_pred, y_train)\n",
    "\n",
    "    # Zero all gradients\n",
    "    optimizer.zero_grad()\n",
    "\n",
    "    # Backward pass\n",
    "    loss.backward()\n",
    "\n",
    "    # Update weights\n",
    "    optimizer.step()\n",
    "\n",
    "    if epoch%10==0: \n",
    "        predictions = y_pred.max(dim=1)[1] # class\n",
    "        accuracy = accuracy_fn(y_pred=predictions, y_true=y_train)\n",
    "        print (f\"Epoch: {epoch} | loss: {loss:.2f}, accuracy: {accuracy:.1f}\")"
   ]
  },
  {
   "cell_type": "markdown",
   "metadata": {
    "colab_type": "text",
    "id": "10HGpWGTF4oR"
   },
   "source": [
    "## Evaluation"
   ]
  },
  {
   "cell_type": "code",
   "execution_count": 226,
   "metadata": {
    "colab": {
     "base_uri": "https://localhost:8080/",
     "height": 51
    },
    "colab_type": "code",
    "executionInfo": {
     "elapsed": 367,
     "status": "ok",
     "timestamp": 1583944068431,
     "user": {
      "displayName": "Goku Mohandas",
      "photoUrl": "https://lh3.googleusercontent.com/a-/AOh14GjMIOf3R_zwS_zZx4ZyPMtQe0lOkGpPOEUEKWpM7g=s64",
      "userId": "00378334517810298963"
     },
     "user_tz": 420
    },
    "id": "Y4tI2iZ1vl8e",
    "outputId": "af9b2ff7-21ab-4527-b60f-cfe586a129a7"
   },
   "outputs": [
    {
     "name": "stdout",
     "output_type": "stream",
     "text": [
      "sample probability: tensor([0.0078, 0.0019, 0.9903], grad_fn=<SelectBackward>)\n",
      "sample class: 2\n"
     ]
    }
   ],
   "source": [
    "# Predictions\n",
    "pred_train = model(X_train, apply_softmax=True)\n",
    "pred_test = model(X_test, apply_softmax=True)\n",
    "print (f\"sample probability: {pred_test[0]}\")\n",
    "pred_train = pred_train.max(dim=1)[1]\n",
    "pred_test = pred_test.max(dim=1)[1]\n",
    "print (f\"sample class: {pred_test[0]}\")"
   ]
  },
  {
   "cell_type": "code",
   "execution_count": 227,
   "metadata": {
    "colab": {
     "base_uri": "https://localhost:8080/",
     "height": 34
    },
    "colab_type": "code",
    "executionInfo": {
     "elapsed": 282,
     "status": "ok",
     "timestamp": 1583944069194,
     "user": {
      "displayName": "Goku Mohandas",
      "photoUrl": "https://lh3.googleusercontent.com/a-/AOh14GjMIOf3R_zwS_zZx4ZyPMtQe0lOkGpPOEUEKWpM7g=s64",
      "userId": "00378334517810298963"
     },
     "user_tz": 420
    },
    "id": "Ieu55J1Gc7IK",
    "outputId": "efe78ef6-8031-4cd6-987a-64807dbf52b3"
   },
   "outputs": [
    {
     "name": "stdout",
     "output_type": "stream",
     "text": [
      "train acc: 0.98, test acc: 0.99\n"
     ]
    }
   ],
   "source": [
    "# Accuracy\n",
    "train_acc = accuracy_score(y_train, pred_train)\n",
    "test_acc = accuracy_score(y_test, pred_test)\n",
    "print (f\"train acc: {train_acc:.2f}, test acc: {test_acc:.2f}\")"
   ]
  },
  {
   "cell_type": "code",
   "execution_count": 228,
   "metadata": {
    "colab": {
     "base_uri": "https://localhost:8080/",
     "height": 476
    },
    "colab_type": "code",
    "executionInfo": {
     "elapsed": 1000,
     "status": "ok",
     "timestamp": 1583944070468,
     "user": {
      "displayName": "Goku Mohandas",
      "photoUrl": "https://lh3.googleusercontent.com/a-/AOh14GjMIOf3R_zwS_zZx4ZyPMtQe0lOkGpPOEUEKWpM7g=s64",
      "userId": "00378334517810298963"
     },
     "user_tz": 420
    },
    "id": "CgM4qu8I62BP",
    "outputId": "73273a92-b5d7-4a69-b359-97f509711d57"
   },
   "outputs": [
    {
     "name": "stderr",
     "output_type": "stream",
     "text": [
      "<ipython-input-195-c4b3e1cd4909>:17: UserWarning: FixedFormatter should only be used together with FixedLocator\n",
      "  ax.set_xticklabels([''] + classes)\n",
      "<ipython-input-195-c4b3e1cd4909>:18: UserWarning: FixedFormatter should only be used together with FixedLocator\n",
      "  ax.set_yticklabels([''] + classes)\n"
     ]
    },
    {
     "data": {
      "image/png": "[encoded data removed]",
      "text/plain": [
       "<Figure size 432x288 with 2 Axes>"
      ]
     },
     "metadata": {
      "needs_background": "light"
     },
     "output_type": "display_data"
    },
    {
     "name": "stdout",
     "output_type": "stream",
     "text": [
      "              precision    recall  f1-score   support\n",
      "\n",
      "           0       0.97      1.00      0.99        75\n",
      "           1       1.00      0.97      0.99        75\n",
      "           2       1.00      1.00      1.00        75\n",
      "\n",
      "    accuracy                           0.99       225\n",
      "   macro avg       0.99      0.99      0.99       225\n",
      "weighted avg       0.99      0.99      0.99       225\n",
      "\n"
     ]
    }
   ],
   "source": [
    "# Metrics\n",
    "plot_confusion_matrix(y_test, pred_test, classes=classes)\n",
    "print (classification_report(y_test, pred_test))"
   ]
  },
  {
   "cell_type": "code",
   "execution_count": 229,
   "metadata": {
    "colab": {
     "base_uri": "https://localhost:8080/",
     "height": 336
    },
    "colab_type": "code",
    "executionInfo": {
     "elapsed": 935,
     "status": "ok",
     "timestamp": 1583944072549,
     "user": {
      "displayName": "Goku Mohandas",
      "photoUrl": "https://lh3.googleusercontent.com/a-/AOh14GjMIOf3R_zwS_zZx4ZyPMtQe0lOkGpPOEUEKWpM7g=s64",
      "userId": "00378334517810298963"
     },
     "user_tz": 420
    },
    "id": "Xj7cwzZ4NoVI",
    "outputId": "ed63c22e-0a4f-48eb-bccb-c3a0bfd5d189"
   },
   "outputs": [
    {
     "data": {
      "image/png": "[encoded data removed]",
      "text/plain": [
       "<Figure size 864x360 with 2 Axes>"
      ]
     },
     "metadata": {
      "needs_background": "light"
     },
     "output_type": "display_data"
    }
   ],
   "source": [
    "# Visualize the decision boundary\n",
    "plt.figure(figsize=(12,5))\n",
    "plt.subplot(1, 2, 1)\n",
    "plt.title(\"Train\")\n",
    "plot_multiclass_decision_boundary(model=model, X=X_train, y=y_train)\n",
    "plt.subplot(1, 2, 2)\n",
    "plt.title(\"Test\")\n",
    "plot_multiclass_decision_boundary(model=model, X=X_test, y=y_test)\n",
    "plt.show()"
   ]
  },
  {
   "cell_type": "markdown",
   "metadata": {
    "colab_type": "text",
    "id": "6Cv3ev9Uo1Ii"
   },
   "source": [
    "## Inference"
   ]
  },
  {
   "cell_type": "code",
   "execution_count": 230,
   "metadata": {
    "colab": {
     "base_uri": "https://localhost:8080/",
     "height": 80
    },
    "colab_type": "code",
    "executionInfo": {
     "elapsed": 591,
     "status": "ok",
     "timestamp": 1583944080811,
     "user": {
      "displayName": "Goku Mohandas",
      "photoUrl": "https://lh3.googleusercontent.com/a-/AOh14GjMIOf3R_zwS_zZx4ZyPMtQe0lOkGpPOEUEKWpM7g=s64",
      "userId": "00378334517810298963"
     },
     "user_tz": 420
    },
    "id": "h25pUbR8o9eF",
    "outputId": "373d8ab6-b420-4453-aa20-1106c0335538"
   },
   "outputs": [
    {
     "data": {
      "text/html": [
       "<div>\n",
       "<style scoped>\n",
       "    .dataframe tbody tr th:only-of-type {\n",
       "        vertical-align: middle;\n",
       "    }\n",
       "\n",
       "    .dataframe tbody tr th {\n",
       "        vertical-align: top;\n",
       "    }\n",
       "\n",
       "    .dataframe thead th {\n",
       "        text-align: right;\n",
       "    }\n",
       "</style>\n",
       "<table border=\"1\" class=\"dataframe\">\n",
       "  <thead>\n",
       "    <tr style=\"text-align: right;\">\n",
       "      <th></th>\n",
       "      <th>X1</th>\n",
       "      <th>X2</th>\n",
       "    </tr>\n",
       "  </thead>\n",
       "  <tbody>\n",
       "    <tr>\n",
       "      <th>0</th>\n",
       "      <td>0.1</td>\n",
       "      <td>0.1</td>\n",
       "    </tr>\n",
       "  </tbody>\n",
       "</table>\n",
       "</div>"
      ],
      "text/plain": [
       "    X1   X2\n",
       "0  0.1  0.1"
      ]
     },
     "execution_count": 230,
     "metadata": {},
     "output_type": "execute_result"
    }
   ],
   "source": [
    "# Inputs for inference\n",
    "X_infer = pd.DataFrame([{'X1': 0.1, 'X2': 0.1}])\n",
    "X_infer.head()"
   ]
  },
  {
   "cell_type": "code",
   "execution_count": 231,
   "metadata": {
    "colab": {
     "base_uri": "https://localhost:8080/",
     "height": 34
    },
    "colab_type": "code",
    "executionInfo": {
     "elapsed": 869,
     "status": "ok",
     "timestamp": 1583944081841,
     "user": {
      "displayName": "Goku Mohandas",
      "photoUrl": "https://lh3.googleusercontent.com/a-/AOh14GjMIOf3R_zwS_zZx4ZyPMtQe0lOkGpPOEUEKWpM7g=s64",
      "userId": "00378334517810298963"
     },
     "user_tz": 420
    },
    "id": "8G5lIYReo9l_",
    "outputId": "60c0c5a6-1292-4095-aa47-7eedc6dd39ca"
   },
   "outputs": [
    {
     "name": "stdout",
     "output_type": "stream",
     "text": [
      "[[0.30945845 0.30761858]]\n"
     ]
    }
   ],
   "source": [
    "# Standardize\n",
    "X_infer = X_scaler.transform(X_infer)\n",
    "print (X_infer)"
   ]
  },
  {
   "cell_type": "code",
   "execution_count": 232,
   "metadata": {
    "colab": {
     "base_uri": "https://localhost:8080/",
     "height": 34
    },
    "colab_type": "code",
    "executionInfo": {
     "elapsed": 510,
     "status": "ok",
     "timestamp": 1583944083068,
     "user": {
      "displayName": "Goku Mohandas",
      "photoUrl": "https://lh3.googleusercontent.com/a-/AOh14GjMIOf3R_zwS_zZx4ZyPMtQe0lOkGpPOEUEKWpM7g=s64",
      "userId": "00378334517810298963"
     },
     "user_tz": 420
    },
    "id": "Uow5g2-1o9kF",
    "outputId": "75cdd915-f011-4a6e-d7a9-9e1f7ad7786a"
   },
   "outputs": [
    {
     "name": "stdout",
     "output_type": "stream",
     "text": [
      "The probability of class c1 is 94%\n"
     ]
    }
   ],
   "source": [
    "# Predict\n",
    "y_infer = model(torch.Tensor(X_infer), apply_softmax=True)\n",
    "prob, _class = y_infer.max(dim=1)\n",
    "print (f\"The probability of class {classes[_class.detach().numpy()[0]]} is {prob.detach().numpy()[0]*100.0:.0f}%\")"
   ]
  },
  {
   "cell_type": "markdown",
   "metadata": {
    "colab_type": "text",
    "id": "gWv-RU46k2UL"
   },
   "source": [
    "# 가중치 초기화"
   ]
  },
  {
   "cell_type": "markdown",
   "metadata": {
    "colab_type": "text",
    "id": "1hDPBE0sk2mJ"
   },
   "source": [
    "지금까지 작은 무작위 값으로 가중치를 초기화해 왔지만 이것은 훈련 _모델의 수렴_ 에 적합하지 않습니다.<br>\n",
    "목표는 __모든 뉴런에 걸쳐 적절한 분포를 따르는 출력을 생성할 수 있는 가중치를 갖는 것__ 입니다. <br> \n",
    "우리는 affine(행렬 곱) 및 비선형 연산 전에 단위 분산을 갖도록 가중치에 적용함으로써 적절한 가중치 초기화를 할 수 있습니다."
   ]
  },
  {
   "cell_type": "markdown",
   "metadata": {
    "colab_type": "text",
    "id": "YxCm7FyRFRWK"
   },
   "source": [
    "**NOTE**: 많이 쓰이는 방법으로는 [xavier initialization](http://andyljones.tumblr.com/post/110998971763/an-explanation-of-xavier-initialization)이 있습니다.<br>\n",
    "이 기법은 가중치를 초기화하여 데이터의 신호가 네트워크 깊숙이 도달 할 수 있도록 합니다.<br>\n",
    "이외 다른 초기화 기법들은 [여기](https://pytorch.org/docs/stable/nn.init.html)를 참조하기 바랍니다."
   ]
  },
  {
   "cell_type": "code",
   "execution_count": 233,
   "metadata": {
    "colab": {},
    "colab_type": "code",
    "id": "Dj7apAxufge7"
   },
   "outputs": [],
   "source": [
    "from torch.nn import init"
   ]
  },
  {
   "cell_type": "code",
   "execution_count": 234,
   "metadata": {
    "colab": {},
    "colab_type": "code",
    "id": "U5lUR__TKvqA"
   },
   "outputs": [],
   "source": [
    "class MLP(nn.Module):\n",
    "    def __init__(self, input_dim, hidden_dim, num_classes):\n",
    "        super(MLP, self).__init__()\n",
    "        self.fc1 = nn.Linear(input_dim, hidden_dim)\n",
    "        self.fc2 = nn.Linear(hidden_dim, num_classes)\n",
    "\n",
    "    def init_weights(self):\n",
    "        init.xavier_normal(self.fc1.weight, gain=init.calculate_gain('relu')) \n",
    "        \n",
    "    def forward(self, x_in, apply_softmax=False):\n",
    "        z = F.relu(self.fc1(x_in)) # ReLU activaton function added!\n",
    "        y_pred = self.fc2(z)\n",
    "        if apply_softmax:\n",
    "            y_pred = F.softmax(y_pred, dim=1) \n",
    "        return y_pred"
   ]
  },
  {
   "cell_type": "markdown",
   "metadata": {
    "colab_type": "text",
    "id": "FAyjh3bieLjn"
   },
   "source": [
    "# Dropout"
   ]
  },
  {
   "cell_type": "markdown",
   "metadata": {
    "colab_type": "text",
    "id": "z6kLwcBveLy5"
   },
   "source": [
    "모델을 일반화하는(테스트 데이터에서 잘 작동하는) 가장 좋은 테크닉은 학습 데이터의 수를 증가시키는 것이지만 이건 언제나 가능한 방법은 아닙니다.<br>\n",
    "다행히도, 더 강력한 모델을 만드는데 도움이 되는 정규화 및 드롭아웃과 같은 방법들이 존재합니다.\n",
    "\n",
    "드롭아웃(Dropout)은 )__뉴런의 출력을 0으로 만드는 기법__ 입니다.<br>\n",
    "전체 뉴런 중 `dropout_p`%에 대해 이 작업을 수행하고, __매 배치마다 달라집니다__.<br>\n",
    "매번 다른 뉴런들에 이 작업을 수행하기 때문에 드롭 아웃은 뉴런이 데이터에 너무 많이 학습되는 것을 방지하고 샘플링 전략 역할도 합니다.\n",
    "\n",
    "\n",
    "<div align=\"left\">\n",
    "<img src=\"https://miro.medium.com/max/1044/1*iWQzxhVlvadk6VAJjsgXgg.png\" width=\"350\">\n",
    "</div>\n",
    "\n",
    "* [Dropout: A Simple Way to Prevent Neural Networks from\n",
    "Overfitting](http://jmlr.org/papers/volume15/srivastava14a/srivastava14a.pdf)"
   ]
  },
  {
   "cell_type": "code",
   "execution_count": 235,
   "metadata": {
    "colab": {},
    "colab_type": "code",
    "id": "g1E2bDj2HKpb"
   },
   "outputs": [],
   "source": [
    "DROPOUT_P = 0.1 # % of the neurons that are dropped each pass"
   ]
  },
  {
   "cell_type": "code",
   "execution_count": 236,
   "metadata": {
    "colab": {},
    "colab_type": "code",
    "id": "DS26SgeFgvG1"
   },
   "outputs": [],
   "source": [
    "class MLP(nn.Module):\n",
    "    def __init__(self, input_dim, hidden_dim, dropout_p, num_classes):\n",
    "        super(MLP, self).__init__()\n",
    "        self.fc1 = nn.Linear(input_dim, hidden_dim)\n",
    "        self.dropout = nn.Dropout(dropout_p) # dropout\n",
    "        self.fc2 = nn.Linear(hidden_dim, num_classes)\n",
    "\n",
    "    def init_weights(self):\n",
    "        init.xavier_normal(self.fc1.weight, gain=init.calculate_gain('relu')) \n",
    "        \n",
    "    def forward(self, x_in, apply_softmax=False):\n",
    "        z = F.relu(self.fc1(x_in)) \n",
    "        z = self.dropout(z) # dropout\n",
    "        y_pred = self.fc2(z)\n",
    "        if apply_softmax:\n",
    "            y_pred = F.softmax(y_pred, dim=1) \n",
    "        return y_pred"
   ]
  },
  {
   "cell_type": "code",
   "execution_count": 237,
   "metadata": {
    "colab": {
     "base_uri": "https://localhost:8080/",
     "height": 374
    },
    "colab_type": "code",
    "executionInfo": {
     "elapsed": 335,
     "status": "ok",
     "timestamp": 1583944124985,
     "user": {
      "displayName": "Goku Mohandas",
      "photoUrl": "https://lh3.googleusercontent.com/a-/AOh14GjMIOf3R_zwS_zZx4ZyPMtQe0lOkGpPOEUEKWpM7g=s64",
      "userId": "00378334517810298963"
     },
     "user_tz": 420
    },
    "id": "1he_g3eJgvOk",
    "outputId": "fba356b9-8a09-42e5-9123-e2c34094a52e"
   },
   "outputs": [
    {
     "name": "stdout",
     "output_type": "stream",
     "text": [
      "<bound method Module.named_parameters of MLP(\n",
      "  (fc1): Linear(in_features=2, out_features=100, bias=True)\n",
      "  (dropout): Dropout(p=0.1, inplace=False)\n",
      "  (fc2): Linear(in_features=100, out_features=3, bias=True)\n",
      ")>\n"
     ]
    }
   ],
   "source": [
    "# Initialize model\n",
    "model = MLP(input_dim=INPUT_DIM, hidden_dim=HIDDEN_DIM, \n",
    "            dropout_p=DROPOUT_P, num_classes=NUM_CLASSES)\n",
    "print (model.named_parameters)"
   ]
  },
  {
   "cell_type": "markdown",
   "metadata": {
    "colab_type": "text",
    "id": "9ijvHwcZg8mO"
   },
   "source": [
    "# Overfitting(과적합)"
   ]
  },
  {
   "cell_type": "markdown",
   "metadata": {
    "colab_type": "text",
    "id": "FIhvdD_zg8os"
   },
   "source": [
    "_신경망_ 은 비선형 관계를 포착하는데에는 뛰어나지만 학습 데이터에 너무 민감하여 __쉽게 과적합__ 되어 테스트 데이터에 _일반화를 실패_ 하는 경우가 자주 생깁니다. <br>\n",
    "아래 예시에서 완전히 무작위 데이터를 생성해 [$2*N*C + D$](https://arxiv.org/abs/1611.03530) 히든 유닛을 가진 모델을 학습할 수 있습니다.<br>\n",
    "학습 결과는 좋지만(~70%) 과적합으로 인해 좋지 않은 테스트 성능을 보이게 됩니다.<br>\n",
    "이러한 과적합 문제를 해결하기 위한 전략을 다룰 것입니다."
   ]
  },
  {
   "cell_type": "code",
   "execution_count": 238,
   "metadata": {
    "colab": {},
    "colab_type": "code",
    "id": "uRdM16NhazJP"
   },
   "outputs": [],
   "source": [
    "NUM_EPOCHS = 500\n",
    "NUM_SAMPLES_PER_CLASS = 50\n",
    "LEARNING_RATE = 1e-1\n",
    "HIDDEN_DIM = 2 * NUM_SAMPLES_PER_CLASS * NUM_CLASSES + INPUT_DIM # 2*N*C + D"
   ]
  },
  {
   "cell_type": "code",
   "execution_count": 239,
   "metadata": {
    "colab": {
     "base_uri": "https://localhost:8080/",
     "height": 51
    },
    "colab_type": "code",
    "executionInfo": {
     "elapsed": 737,
     "status": "ok",
     "timestamp": 1583944323259,
     "user": {
      "displayName": "Goku Mohandas",
      "photoUrl": "https://lh3.googleusercontent.com/a-/AOh14GjMIOf3R_zwS_zZx4ZyPMtQe0lOkGpPOEUEKWpM7g=s64",
      "userId": "00378334517810298963"
     },
     "user_tz": 420
    },
    "id": "qf00Biq6g8ty",
    "outputId": "3fc8d53c-e51c-469d-b1b9-a8cfb535c5c2"
   },
   "outputs": [
    {
     "name": "stdout",
     "output_type": "stream",
     "text": [
      "X:  (150, 2)\n",
      "y:  (150,)\n"
     ]
    }
   ],
   "source": [
    "# Generate random data\n",
    "X = np.random.rand(NUM_SAMPLES_PER_CLASS * NUM_CLASSES, INPUT_DIM)\n",
    "y = np.array([[i]*NUM_SAMPLES_PER_CLASS for i in range(NUM_CLASSES)]).reshape(-1)\n",
    "print (\"X: \", format(np.shape(X)))\n",
    "print (\"y: \", format(np.shape(y)))"
   ]
  },
  {
   "cell_type": "code",
   "execution_count": 240,
   "metadata": {
    "colab": {
     "base_uri": "https://localhost:8080/",
     "height": 119
    },
    "colab_type": "code",
    "executionInfo": {
     "elapsed": 769,
     "status": "ok",
     "timestamp": 1583944323636,
     "user": {
      "displayName": "Goku Mohandas",
      "photoUrl": "https://lh3.googleusercontent.com/a-/AOh14GjMIOf3R_zwS_zZx4ZyPMtQe0lOkGpPOEUEKWpM7g=s64",
      "userId": "00378334517810298963"
     },
     "user_tz": 420
    },
    "id": "-bA9vK9SWkjh",
    "outputId": "cb1accf4-e1ae-43ec-9c16-1ef4fa4cda0e"
   },
   "outputs": [
    {
     "name": "stdout",
     "output_type": "stream",
     "text": [
      "X_train: (107, 2)\n",
      "y_train: (107,)\n",
      "X_val: (20, 2)\n",
      "y_val: (20,)\n",
      "X_test: (23, 2)\n",
      "y_test: (23,)\n"
     ]
    }
   ],
   "source": [
    "# Create data splits\n",
    "X_train, X_val, X_test, y_train, y_val, y_test = train_val_test_split(\n",
    "    X, y, val_size=VAL_SIZE, test_size=TEST_SIZE, shuffle=SHUFFLE)\n",
    "print (\"X_train:\", X_train.shape)\n",
    "print (\"y_train:\", y_train.shape)\n",
    "print (\"X_val:\", X_val.shape)\n",
    "print (\"y_val:\", y_val.shape)\n",
    "print (\"X_test:\", X_test.shape)\n",
    "print (\"y_test:\", y_test.shape)"
   ]
  },
  {
   "cell_type": "code",
   "execution_count": 241,
   "metadata": {
    "colab": {},
    "colab_type": "code",
    "id": "lYwc9mk1f5bm"
   },
   "outputs": [],
   "source": [
    "# Standardize the inputs (mean=0, std=1) using training data\n",
    "X_scaler = StandardScaler().fit(X_train)\n",
    "X_train = X_scaler.transform(X_train)\n",
    "X_val = X_scaler.transform(X_val)\n",
    "X_test = X_scaler.transform(X_test)"
   ]
  },
  {
   "cell_type": "code",
   "execution_count": 242,
   "metadata": {
    "colab": {},
    "colab_type": "code",
    "id": "ogTctxN3gt8M"
   },
   "outputs": [],
   "source": [
    "# Convert data to tensors\n",
    "X_train = torch.Tensor(X_train)\n",
    "y_train = torch.LongTensor(y_train)\n",
    "X_val = torch.Tensor(X_val)\n",
    "y_val = torch.LongTensor(y_val)\n",
    "X_test = torch.Tensor(X_test)\n",
    "y_test = torch.LongTensor(y_test)"
   ]
  },
  {
   "cell_type": "code",
   "execution_count": 243,
   "metadata": {
    "colab": {
     "base_uri": "https://localhost:8080/",
     "height": 374
    },
    "colab_type": "code",
    "executionInfo": {
     "elapsed": 232,
     "status": "ok",
     "timestamp": 1583944324205,
     "user": {
      "displayName": "Goku Mohandas",
      "photoUrl": "https://lh3.googleusercontent.com/a-/AOh14GjMIOf3R_zwS_zZx4ZyPMtQe0lOkGpPOEUEKWpM7g=s64",
      "userId": "00378334517810298963"
     },
     "user_tz": 420
    },
    "id": "DDUW0xVMh8v8",
    "outputId": "4e651615-7e56-49f3-e2d1-080a114ccecc"
   },
   "outputs": [
    {
     "name": "stdout",
     "output_type": "stream",
     "text": [
      "<bound method Module.named_parameters of MLP(\n",
      "  (fc1): Linear(in_features=2, out_features=302, bias=True)\n",
      "  (dropout): Dropout(p=0.1, inplace=False)\n",
      "  (fc2): Linear(in_features=302, out_features=3, bias=True)\n",
      ")>\n"
     ]
    }
   ],
   "source": [
    "# Initialize model\n",
    "model = MLP(input_dim=INPUT_DIM, hidden_dim=HIDDEN_DIM, \n",
    "            dropout_p=DROPOUT_P, num_classes=NUM_CLASSES)\n",
    "print (model.named_parameters)"
   ]
  },
  {
   "cell_type": "code",
   "execution_count": 244,
   "metadata": {
    "colab": {},
    "colab_type": "code",
    "id": "6bIiiaOmhFiN"
   },
   "outputs": [],
   "source": [
    "# Optimizer\n",
    "optimizer = Adam(model.parameters(), lr=LEARNING_RATE) "
   ]
  },
  {
   "cell_type": "code",
   "execution_count": 245,
   "metadata": {
    "colab": {
     "base_uri": "https://localhost:8080/",
     "height": 442
    },
    "colab_type": "code",
    "executionInfo": {
     "elapsed": 1452,
     "status": "ok",
     "timestamp": 1583944326782,
     "user": {
      "displayName": "Goku Mohandas",
      "photoUrl": "https://lh3.googleusercontent.com/a-/AOh14GjMIOf3R_zwS_zZx4ZyPMtQe0lOkGpPOEUEKWpM7g=s64",
      "userId": "00378334517810298963"
     },
     "user_tz": 420
    },
    "id": "zgayj4E1WksH",
    "outputId": "9a238eb8-5540-4b3a-936f-7f221cde1c51"
   },
   "outputs": [
    {
     "name": "stdout",
     "output_type": "stream",
     "text": [
      "Epoch: 0 | loss: 1.16, accuracy: 35.5\n",
      "Epoch: 20 | loss: 1.05, accuracy: 39.3\n",
      "Epoch: 40 | loss: 0.99, accuracy: 48.6\n",
      "Epoch: 60 | loss: 0.93, accuracy: 53.3\n",
      "Epoch: 80 | loss: 0.94, accuracy: 57.9\n",
      "Epoch: 100 | loss: 0.91, accuracy: 57.0\n",
      "Epoch: 120 | loss: 0.86, accuracy: 57.9\n",
      "Epoch: 140 | loss: 0.91, accuracy: 56.1\n",
      "Epoch: 160 | loss: 0.94, accuracy: 60.7\n",
      "Epoch: 180 | loss: 0.85, accuracy: 58.9\n",
      "Epoch: 200 | loss: 0.91, accuracy: 57.9\n",
      "Epoch: 220 | loss: 0.90, accuracy: 60.7\n",
      "Epoch: 240 | loss: 0.83, accuracy: 71.0\n",
      "Epoch: 260 | loss: 0.79, accuracy: 67.3\n",
      "Epoch: 280 | loss: 0.81, accuracy: 64.5\n",
      "Epoch: 300 | loss: 0.80, accuracy: 64.5\n",
      "Epoch: 320 | loss: 0.88, accuracy: 58.9\n",
      "Epoch: 340 | loss: 0.86, accuracy: 65.4\n",
      "Epoch: 360 | loss: 0.76, accuracy: 65.4\n",
      "Epoch: 380 | loss: 0.84, accuracy: 61.7\n",
      "Epoch: 400 | loss: 0.78, accuracy: 69.2\n",
      "Epoch: 420 | loss: 0.83, accuracy: 59.8\n",
      "Epoch: 440 | loss: 0.82, accuracy: 68.2\n",
      "Epoch: 460 | loss: 0.80, accuracy: 63.6\n",
      "Epoch: 480 | loss: 0.78, accuracy: 67.3\n"
     ]
    }
   ],
   "source": [
    "# Training\n",
    "for epoch in range(NUM_EPOCHS):\n",
    "    # Forward pass\n",
    "    y_pred = model(X_train)\n",
    "\n",
    "    # Loss\n",
    "    loss = loss_fn(y_pred, y_train)\n",
    "\n",
    "    # Zero all gradients\n",
    "    optimizer.zero_grad()\n",
    "\n",
    "    # Backward pass\n",
    "    loss.backward()\n",
    "\n",
    "    # Update weights\n",
    "    optimizer.step()\n",
    "\n",
    "    if epoch%20==0: \n",
    "        predictions = y_pred.max(dim=1)[1] # class\n",
    "        accuracy = accuracy_fn(y_pred=predictions, y_true=y_train)\n",
    "        print (f\"Epoch: {epoch} | loss: {loss:.2f}, accuracy: {accuracy:.1f}\")"
   ]
  },
  {
   "cell_type": "code",
   "execution_count": 246,
   "metadata": {
    "colab": {
     "base_uri": "https://localhost:8080/",
     "height": 51
    },
    "colab_type": "code",
    "executionInfo": {
     "elapsed": 507,
     "status": "ok",
     "timestamp": 1583944328132,
     "user": {
      "displayName": "Goku Mohandas",
      "photoUrl": "https://lh3.googleusercontent.com/a-/AOh14GjMIOf3R_zwS_zZx4ZyPMtQe0lOkGpPOEUEKWpM7g=s64",
      "userId": "00378334517810298963"
     },
     "user_tz": 420
    },
    "id": "8QG4bPzshN8L",
    "outputId": "634735eb-826a-4b42-8161-f97f22aba311"
   },
   "outputs": [
    {
     "name": "stdout",
     "output_type": "stream",
     "text": [
      "sample probability: tensor([0.1756, 0.3662, 0.4582], grad_fn=<SelectBackward>)\n",
      "sample class: 2\n"
     ]
    }
   ],
   "source": [
    "# Predictions\n",
    "pred_train = model(X_train, apply_softmax=True)\n",
    "pred_test = model(X_test, apply_softmax=True)\n",
    "print (f\"sample probability: {pred_test[0]}\")\n",
    "pred_train = pred_train.max(dim=1)[1]\n",
    "pred_test = pred_test.max(dim=1)[1]\n",
    "print (f\"sample class: {pred_test[0]}\")"
   ]
  },
  {
   "cell_type": "code",
   "execution_count": 247,
   "metadata": {
    "colab": {
     "base_uri": "https://localhost:8080/",
     "height": 34
    },
    "colab_type": "code",
    "executionInfo": {
     "elapsed": 505,
     "status": "ok",
     "timestamp": 1583944328756,
     "user": {
      "displayName": "Goku Mohandas",
      "photoUrl": "https://lh3.googleusercontent.com/a-/AOh14GjMIOf3R_zwS_zZx4ZyPMtQe0lOkGpPOEUEKWpM7g=s64",
      "userId": "00378334517810298963"
     },
     "user_tz": 420
    },
    "id": "bDoiOTgxdgLd",
    "outputId": "bf3f01fd-166c-498a-a483-2891f05d0980"
   },
   "outputs": [
    {
     "name": "stdout",
     "output_type": "stream",
     "text": [
      "train acc: 0.65, test acc: 0.39\n"
     ]
    }
   ],
   "source": [
    "# Accuracy\n",
    "train_acc = accuracy_score(y_train, pred_train)\n",
    "test_acc = accuracy_score(y_test, pred_test)\n",
    "print (f\"train acc: {train_acc:.2f}, test acc: {test_acc:.2f}\")"
   ]
  },
  {
   "cell_type": "code",
   "execution_count": 248,
   "metadata": {
    "colab": {
     "base_uri": "https://localhost:8080/",
     "height": 476
    },
    "colab_type": "code",
    "executionInfo": {
     "elapsed": 839,
     "status": "ok",
     "timestamp": 1583944329426,
     "user": {
      "displayName": "Goku Mohandas",
      "photoUrl": "https://lh3.googleusercontent.com/a-/AOh14GjMIOf3R_zwS_zZx4ZyPMtQe0lOkGpPOEUEKWpM7g=s64",
      "userId": "00378334517810298963"
     },
     "user_tz": 420
    },
    "id": "_LU9Wzt0ZxwI",
    "outputId": "f5c5a6be-0e5a-4f3b-a5cb-c1cfc64d8d6f"
   },
   "outputs": [
    {
     "name": "stderr",
     "output_type": "stream",
     "text": [
      "<ipython-input-195-c4b3e1cd4909>:17: UserWarning: FixedFormatter should only be used together with FixedLocator\n",
      "  ax.set_xticklabels([''] + classes)\n",
      "<ipython-input-195-c4b3e1cd4909>:18: UserWarning: FixedFormatter should only be used together with FixedLocator\n",
      "  ax.set_yticklabels([''] + classes)\n"
     ]
    },
    {
     "data": {
      "image/png": "[encoded data removed]",
      "text/plain": [
       "<Figure size 432x288 with 2 Axes>"
      ]
     },
     "metadata": {
      "needs_background": "light"
     },
     "output_type": "display_data"
    },
    {
     "name": "stdout",
     "output_type": "stream",
     "text": [
      "              precision    recall  f1-score   support\n",
      "\n",
      "           0       0.33      0.12      0.18         8\n",
      "           1       0.57      0.50      0.53         8\n",
      "           2       0.31      0.57      0.40         7\n",
      "\n",
      "    accuracy                           0.39        23\n",
      "   macro avg       0.40      0.40      0.37        23\n",
      "weighted avg       0.41      0.39      0.37        23\n",
      "\n"
     ]
    }
   ],
   "source": [
    "# Classification report\n",
    "plot_confusion_matrix(y_true=y_test, y_pred=pred_test, classes=classes)\n",
    "print (classification_report(y_test, pred_test))"
   ]
  },
  {
   "cell_type": "code",
   "execution_count": 249,
   "metadata": {
    "colab": {
     "base_uri": "https://localhost:8080/",
     "height": 336
    },
    "colab_type": "code",
    "executionInfo": {
     "elapsed": 1206,
     "status": "ok",
     "timestamp": 1583944330908,
     "user": {
      "displayName": "Goku Mohandas",
      "photoUrl": "https://lh3.googleusercontent.com/a-/AOh14GjMIOf3R_zwS_zZx4ZyPMtQe0lOkGpPOEUEKWpM7g=s64",
      "userId": "00378334517810298963"
     },
     "user_tz": 420
    },
    "id": "rpSoAEdGWku5",
    "outputId": "a0529612-9a0a-4e84-9036-89098160fc99"
   },
   "outputs": [
    {
     "data": {
      "image/png": "[encoded data removed]",
      "text/plain": [
       "<Figure size 864x360 with 2 Axes>"
      ]
     },
     "metadata": {
      "needs_background": "light"
     },
     "output_type": "display_data"
    }
   ],
   "source": [
    "# Visualize the decision boundary\n",
    "plt.figure(figsize=(12,5))\n",
    "plt.subplot(1, 2, 1)\n",
    "plt.title(\"Train\")\n",
    "plot_multiclass_decision_boundary(model=model, X=X_train, y=y_train)\n",
    "plt.subplot(1, 2, 2)\n",
    "plt.title(\"Test\")\n",
    "plot_multiclass_decision_boundary(model=model, X=X_test, y=y_test)\n",
    "plt.show()"
   ]
  },
  {
   "cell_type": "markdown",
   "metadata": {
    "colab_type": "text",
    "id": "yppKnFIL6Vv7"
   },
   "source": [
    "_과소적합(높은 편향)_ 하는 __간단한 모델__ 로 시작해 __good fitting__ 을 하는 것이 중요합니다.<br>\n",
    "간단한 모델(선형/로지스틱 회귀)로 시작하면 __복잡한 모델을 추가하지 않고도 오류를 포착__ 할 수 있기 때문입니다."
   ]
  },
  {
   "cell_type": "code",
   "execution_count": null,
   "metadata": {},
   "outputs": [],
   "source": []
  }
 ],
 "metadata": {
  "colab": {
   "collapsed_sections": [],
   "name": "09_PT_Multilayer_Perceptrons",
   "provenance": [
    {
     "file_id": "https://github.com/madewithml/basics/blob/master/notebooks/09_Multilayer_Perceptrons.ipynb",
     "timestamp": 1582822364411
    }
   ],
   "toc_visible": true
  },
  "interpreter": {
   "hash": "df1ebef89fe3587c862adfba157bc52a83d7313f5144167cfdbe9b8c1c95e131"
  },
  "kernelspec": {
   "display_name": "Python 3",
   "language": "python",
   "name": "python3"
  },
  "language_info": {
   "codemirror_mode": {
    "name": "ipython",
    "version": 3
   },
   "file_extension": ".py",
   "mimetype": "text/x-python",
   "name": "python",
   "nbconvert_exporter": "python",
   "pygments_lexer": "ipython3",
   "version": "3.8.5"
  }
 },
 "nbformat": 4,
 "nbformat_minor": 1
}
