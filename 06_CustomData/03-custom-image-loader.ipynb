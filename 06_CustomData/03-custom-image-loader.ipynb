{
 "cells": [
  {
   "cell_type": "code",
   "execution_count": null,
   "id": "0bd10b24",
   "metadata": {},
   "outputs": [],
   "source": [
    "import numpy as np\n",
    "import torch\n",
    "from torch.utils.data import Dataset, DataLoader\n",
    "from torchvision import datasets, transforms"
   ]
  },
  {
   "attachments": {},
   "cell_type": "markdown",
   "id": "504ced26",
   "metadata": {},
   "source": [
    "`torchvision`의 `Image Transform` 에 대하여 생소하다면 **다음의 링크를 참고**해 주시기 바랍니다.\n",
    "\n",
    "- [torchvision의 transform으로 이미지 정규화하기(평균, 표준편차를 계산하여 적용)](https://teddylee777.github.io/pytorch/torchvision-transform)\n",
    "- [PyTorch 이미지 데이터셋(Image Dataset) 구성에 관한 거의 모든 것!](https://teddylee777.github.io/pytorch/dataset-dataloader)"
   ]
  },
  {
   "attachments": {},
   "cell_type": "markdown",
   "id": "beec7d0d",
   "metadata": {},
   "source": [
    "`개와 고양이` 데이터셋을 다운로드 받아서 `tmp` 폴더에 압축을 풀어 줍니다.\n",
    "\n",
    "[데이터셋 출처: 캐글, 마이크로소프트](https://download.microsoft.com/download/3/E/1/3E1C3F21-ECDB-4869-8368-6DEBA77B919F/kagglecatsanddogs_5340.zip)"
   ]
  },
  {
   "attachments": {},
   "cell_type": "markdown",
   "id": "e8d51e25",
   "metadata": {},
   "source": [
    "하단의 `code snippets`는 corrupted 된 이미지를 확인하고 제거하기 위한 코드 입니다. `Cats vs Dogs`데이터셋에도 원인 모를 이유 때문에 이미지 데이터가 corrupt된 파일이 2개가 존재합니다. 이렇게 corrupt 된 이미지를 `DataLoader`로 로드시 에러가 발생하기 때문에 전처리 때 미리 제거하도록 하겠습니다."
   ]
  },
  {
   "attachments": {},
   "cell_type": "markdown",
   "id": "d29bdf36",
   "metadata": {},
   "source": [
    "## 데이터셋 다운로드 및 압축 해제"
   ]
  },
  {
   "cell_type": "code",
   "execution_count": null,
   "id": "dd43551c",
   "metadata": {},
   "outputs": [],
   "source": [
    "# 이미지 데이터셋 다운로드\n",
    "import urllib.request\n",
    "import zipfile\n",
    "import glob\n",
    "import os\n",
    "import random\n",
    "from PIL import Image, UnidentifiedImageError,ImageFile\n",
    "\n",
    "SEED = 123"
   ]
  },
  {
   "cell_type": "code",
   "execution_count": null,
   "id": "23b66dae",
   "metadata": {},
   "outputs": [],
   "source": [
    "# 데이터셋을 다운로드 합니다.\n",
    "url = 'https://download.microsoft.com/download/3/E/1/3E1C3F21-ECDB-4869-8368-6DEBA77B919F/kagglecatsanddogs_5340.zip'\n",
    "urllib.request.urlretrieve(url, 'cats_and_dogs.zip')"
   ]
  },
  {
   "cell_type": "code",
   "execution_count": null,
   "id": "42c6e3d4",
   "metadata": {},
   "outputs": [],
   "source": [
    "# 다운로드 후 tmp 폴더에 압축을 해제 합니다.\n",
    "local_zip = 'cats_and_dogs.zip'\n",
    "zip_ref = zipfile.ZipFile(local_zip, 'r')\n",
    "zip_ref.extractall('tmp/')\n",
    "zip_ref.close()"
   ]
  },
  {
   "attachments": {},
   "cell_type": "markdown",
   "id": "82bdf3b5",
   "metadata": {},
   "source": [
    "다운로드 받은 이미지에 대하여 정규성 검증을 수행합니다. (실제 Corrupted된 이미지가 2건이 있습니다.)"
   ]
  },
  {
   "cell_type": "code",
   "execution_count": null,
   "id": "c4ed707e",
   "metadata": {},
   "outputs": [],
   "source": [
    "# 잘린 이미지 Load 시 경고 출력 안함\n",
    "ImageFile.LOAD_TRUNCATED_IMAGES = True"
   ]
  },
  {
   "cell_type": "code",
   "execution_count": null,
   "id": "58e5f1f8",
   "metadata": {},
   "outputs": [],
   "source": [
    "# 이미지 Validation을 수행하고 Validate 여부를 return 합니다.\n",
    "def validate_image(filepath):\n",
    "    try:\n",
    "        # PIL.Image로 이미지 데이터를 로드하려고 시도합니다.\n",
    "        img = Image.open(filepath).convert('RGB')\n",
    "        img.load()\n",
    "    except UnidentifiedImageError: # corrupt 된 이미지는 해당 에러를 출력합니다.\n",
    "        print(f'Corrupted Image is found at: {filepath}')\n",
    "        return False\n",
    "    except (IOError, OSError): # Truncated (잘린) 이미지에 대한 에러를 출력합니다.\n",
    "        print(f'Truncated Image is found at: {filepath}')\n",
    "        return False\n",
    "    else:\n",
    "        return True"
   ]
  },
  {
   "cell_type": "code",
   "execution_count": null,
   "id": "365a129d",
   "metadata": {},
   "outputs": [],
   "source": [
    "# image 데이터셋 root 폴더\n",
    "root = 'tmp/PetImages' \n",
    "\n",
    "dirs = os.listdir(root)\n",
    "\n",
    "for dir_ in dirs:\n",
    "    folder_path = os.path.join(root, dir_)\n",
    "    files = os.listdir(folder_path)\n",
    "    \n",
    "    images = [os.path.join(folder_path, f) for f in files]\n",
    "    for img in images:\n",
    "        valid = validate_image(img)\n",
    "        if not valid:\n",
    "            # corrupted 된 이미지 제거\n",
    "            os.remove(img)\n",
    "\n",
    "folders = glob.glob('tmp/PetImages/*')\n",
    "print(folders)"
   ]
  },
  {
   "attachments": {},
   "cell_type": "markdown",
   "id": "a84fb5a0",
   "metadata": {},
   "source": [
    "## Train / Test 셋 분할"
   ]
  },
  {
   "cell_type": "code",
   "execution_count": null,
   "id": "e314cea1",
   "metadata": {},
   "outputs": [],
   "source": [
    "# train: test ratio. 0.2로 설정시 test set의 비율은 20%로 설정\n",
    "test_size = 0.2\n",
    "\n",
    "# train / test 셋의 파일을 나눕니다.\n",
    "train_images = []\n",
    "test_images = []\n",
    "\n",
    "for folder in folders:\n",
    "    label = os.path.basename(folder)\n",
    "    files = sorted(glob.glob(folder + '/*'))\n",
    "\n",
    "    # 각 Label별 이미지 데이터셋 셔플\n",
    "    random.seed(SEED)\n",
    "    random.shuffle(files)\n",
    "\n",
    "    idx = int(len(files) * test_size)\n",
    "    train = files[:-idx]\n",
    "    test = files[-idx:]\n",
    "\n",
    "    train_images.extend(train)\n",
    "    test_images.extend(test)\n",
    "\n",
    "# train, test 전체 이미지 셔플\n",
    "random.shuffle(train_images)\n",
    "random.shuffle(test_images)\n",
    "\n",
    "# Class to Index 생성. {'Dog': 0, 'Cat': 1}\n",
    "class_to_idx = {os.path.basename(f):idx for idx, f in enumerate(folders)}\n",
    "\n",
    "# Label 생성\n",
    "train_labels = [f.split('/')[-2] for f in train_images]\n",
    "test_labels = [f.split('/')[-2] for f in test_images]\n",
    "\n",
    "print('==='*10)\n",
    "print(f'train images: {len(train_images)}')\n",
    "print(f'train labels: {len(train_labels)}')\n",
    "print(f'test images: {len(test_images)}')\n",
    "print(f'test labels: {len(test_labels)}')"
   ]
  },
  {
   "attachments": {},
   "cell_type": "markdown",
   "id": "13b855aa",
   "metadata": {},
   "source": [
    "## Dataset 을 상속 받아 CustomImageDataset 구성"
   ]
  },
  {
   "cell_type": "code",
   "execution_count": null,
   "id": "8cef1036",
   "metadata": {},
   "outputs": [],
   "source": [
    "class CustomImageDataset(Dataset):\n",
    "    def __init__(self, files, labels, class_to_idx, transform):\n",
    "        super(CustomImageDataset, self).__init__()\n",
    "        self.files = files\n",
    "        self.labels = labels\n",
    "        self.class_to_idx = class_to_idx\n",
    "        self.transform = transform\n",
    "    \n",
    "    def __len__(self):\n",
    "        return len(self.files)\n",
    "    \n",
    "    def __getitem__(self, idx):\n",
    "        # file 경로\n",
    "        file = self.files[idx]\n",
    "        # PIL.Image로 이미지 로드\n",
    "        img = Image.open(file).convert('RGB')\n",
    "        # transform 적용\n",
    "        img = self.transform(img)\n",
    "        # label 생성\n",
    "        lbl = self.class_to_idx[self.labels[idx]]\n",
    "        # image, label return\n",
    "        return img, lbl"
   ]
  },
  {
   "attachments": {},
   "cell_type": "markdown",
   "id": "87b02e8c",
   "metadata": {},
   "source": [
    "`Image Augmentation`을 적용 합니다.\n",
    "\n",
    "- [PyTorch Image Augmentation 도큐먼트](https://pytorch.org/vision/stable/transforms.html)"
   ]
  },
  {
   "cell_type": "code",
   "execution_count": null,
   "id": "c556f88f",
   "metadata": {},
   "outputs": [],
   "source": [
    "train_transform = transforms.Compose([\n",
    "    transforms.Resize((256, 256)),          # 개와 고양이 사진 파일의 크기가 다르므로, Resize로 맞춰줍니다.\n",
    "    transforms.CenterCrop((224, 224)),      # 중앙 Crop\n",
    "    transforms.RandomHorizontalFlip(0.5),   # 50% 확률로 Horizontal Flip\n",
    "    transforms.ToTensor(), \n",
    "#     transforms.Normalize((0.485, 0.456, 0.406), (0.229, 0.224, 0.225)), # 이미지 정규화\n",
    "])\n",
    "\n",
    "test_transform = transforms.Compose([\n",
    "    transforms.Resize((224, 224)),      # 개와 고양이 사진 파일의 크기가 다르므로, Resize로 맞춰줍니다.\n",
    "    transforms.ToTensor(), \n",
    "#     transforms.Normalize((0.485, 0.456, 0.406), (0.229, 0.224, 0.225)), # 이미지 정규화\n",
    "])"
   ]
  },
  {
   "cell_type": "code",
   "execution_count": null,
   "id": "b8d415f7",
   "metadata": {},
   "outputs": [],
   "source": [
    "# train, test 데이터셋 생성\n",
    "train_dataset = CustomImageDataset(train_images, train_labels, class_to_idx, train_transform)\n",
    "test_dataset = CustomImageDataset(test_images, test_labels, class_to_idx, test_transform)"
   ]
  },
  {
   "attachments": {},
   "cell_type": "markdown",
   "id": "e5773841",
   "metadata": {},
   "source": [
    "`CustomImageDataset`은 `Dataset` 클래스를 상속받았기 때문에 DataLoader 안에 바로 대입할 수 있습니다."
   ]
  },
  {
   "cell_type": "code",
   "execution_count": null,
   "id": "4198a083",
   "metadata": {},
   "outputs": [],
   "source": [
    "# train, test 데이터 로더 생성 => 모델 학습시 입력하는 데이터셋\n",
    "train_loader = DataLoader(train_dataset, \n",
    "                          batch_size=32, \n",
    "                          shuffle=True,\n",
    "                          num_workers=8\n",
    "                         )\n",
    "\n",
    "test_loader = DataLoader(test_dataset, \n",
    "                         batch_size=32, \n",
    "                         shuffle=True,\n",
    "                         num_workers=8\n",
    "                        )"
   ]
  },
  {
   "cell_type": "code",
   "execution_count": null,
   "id": "173d7f66",
   "metadata": {},
   "outputs": [],
   "source": [
    "# 1개의 배치를 추출합니다.\n",
    "images, labels = next(iter(train_loader))"
   ]
  },
  {
   "cell_type": "code",
   "execution_count": null,
   "id": "fef26410",
   "metadata": {},
   "outputs": [],
   "source": [
    "# 이미지의 shape을 확인합니다. 224 X 224 RGB 이미지 임을 확인합니다.\n",
    "images[0].shape"
   ]
  },
  {
   "attachments": {},
   "cell_type": "markdown",
   "id": "9e8bb61b",
   "metadata": {},
   "source": [
    "`개와 고양이` 데이터셋 시각화\n",
    "\n",
    "- 총 2개의 class(강아지/고양이)로 구성된  사진 파일입니다."
   ]
  },
  {
   "cell_type": "code",
   "execution_count": null,
   "id": "1695f09d",
   "metadata": {},
   "outputs": [],
   "source": [
    "import matplotlib.pyplot as plt\n",
    "\n",
    "# ImageFolder의 속성 값인 class_to_idx를 할당\n",
    "labels_map = {v:k for k, v in train_dataset.class_to_idx.items()}\n",
    "\n",
    "figure = plt.figure(figsize=(12, 8))\n",
    "cols, rows = 8, 4\n",
    "\n",
    "# 이미지를 출력합니다. RGB 이미지로 구성되어 있습니다.\n",
    "for i in range(1, cols * rows + 1):\n",
    "    sample_idx = torch.randint(len(images), size=(1,)).item()\n",
    "    img, label = images[sample_idx], labels[sample_idx].item()\n",
    "    figure.add_subplot(rows, cols, i)\n",
    "    plt.title(labels_map[label])\n",
    "    plt.axis(\"off\")\n",
    "    # 본래 이미지의 shape은 (3, 300, 300) 입니다.\n",
    "    # 이를 imshow() 함수로 이미지 시각화 하기 위하여 (300, 300, 3)으로 shape 변경을 한 후 시각화합니다.\n",
    "    plt.imshow(torch.permute(img, (1, 2, 0)))\n",
    "plt.show()"
   ]
  },
  {
   "attachments": {},
   "cell_type": "markdown",
   "id": "7b8369f6",
   "metadata": {},
   "source": [
    "## pre-trained 모델 로드"
   ]
  },
  {
   "attachments": {},
   "cell_type": "markdown",
   "id": "f7d88005",
   "metadata": {},
   "source": [
    "CUDA 설정이 되어 있다면 `cuda`를! 그렇지 않다면 `cpu`로 학습합니다.\n",
    "\n",
    "(제 PC에는 GPU가 2대 있어서 `cuda:0`로 GPU 장비의 index를 지정해 주었습니다. 만약 다른 장비를 사용하고 싶다면 `cuda:1` 이런식으로 지정해 주면 됩니다)"
   ]
  },
  {
   "cell_type": "code",
   "execution_count": null,
   "id": "25cb458b",
   "metadata": {},
   "outputs": [],
   "source": [
    "# device 설정 (cuda:0 혹은 cpu)\n",
    "device = torch.device(\"cuda:1\" if torch.cuda.is_available() else \"cpu\")\n",
    "print(device)"
   ]
  },
  {
   "attachments": {},
   "cell_type": "markdown",
   "id": "f89d3d4a",
   "metadata": {},
   "source": [
    "**pre-trained model**을 fine tuning 하여 Image Classification을 구현하도록 하겠습니다."
   ]
  },
  {
   "cell_type": "code",
   "execution_count": null,
   "id": "6cb3e28b",
   "metadata": {},
   "outputs": [],
   "source": [
    "from torchvision import models # pretrained 모델을 가져오기 위한 import\n",
    "\n",
    "# ResNet101 모델 생성\n",
    "model = models.resnet101(pretrained=True) # pretrained=True 로 설정, pretrained=False로 설정되었을 경우 가중치는 가져오지 않습니다."
   ]
  },
  {
   "attachments": {},
   "cell_type": "markdown",
   "id": "d92169a4",
   "metadata": {},
   "source": [
    "그 밖의 활용 가능한 pretrained 모델\n",
    "\n",
    "- `models.alexnet(pregrained=True)`      # AlexNet\n",
    "- `models.vgg16(pretrained=True)`        # VGG16\n",
    "- `models.resnet18(pretrained=True)`     # ResNet18\n",
    "- `models.inception_v3(pretrained=True)` # Inception_V3"
   ]
  },
  {
   "cell_type": "code",
   "execution_count": null,
   "id": "11fbdfdb",
   "metadata": {},
   "outputs": [],
   "source": [
    "# 가중치를 Freeze 하여 학습시 업데이트가 일어나지 않도록 설정합니다.\n",
    "for param in model.parameters():\n",
    "    param.requires_grad = False  # 가중치 Freeze"
   ]
  },
  {
   "cell_type": "code",
   "execution_count": null,
   "id": "f45a4421",
   "metadata": {},
   "outputs": [],
   "source": [
    "import torch.nn as nn\n",
    "\n",
    "\n",
    "# Fully-Connected Layer를 Sequential로 생성하여 VGG pretrained 모델의 'Classifier'에 연결합니다.\n",
    "fc = nn.Sequential(\n",
    "    nn.Linear(2048, 256), # VGG16 모델의 features의 출력이 7X7, 512장 이기 때문에 in_features=7*7*512 로 설정합니다.\n",
    "    nn.ReLU(), \n",
    "    nn.Linear(256, 64), \n",
    "    nn.ReLU(), \n",
    "    nn.Linear(64, 2), # Cats vs Dogs 이진 분류이기 때문에 2로 out_features=2로 설정합니다.\n",
    ")"
   ]
  },
  {
   "cell_type": "code",
   "execution_count": null,
   "id": "de227ffc",
   "metadata": {
    "scrolled": false
   },
   "outputs": [],
   "source": [
    "model.fc = fc\n",
    "model.to(device)\n",
    "# 모델의 구조도 출력\n",
    "model"
   ]
  },
  {
   "cell_type": "code",
   "execution_count": null,
   "id": "0ddc1092",
   "metadata": {},
   "outputs": [],
   "source": [
    "import torch.optim as optim"
   ]
  },
  {
   "cell_type": "code",
   "execution_count": null,
   "id": "0e8b2270",
   "metadata": {},
   "outputs": [],
   "source": [
    "# 옵티마이저를 정의합니다. 옵티마이저에는 model.parameters()를 지정해야 합니다.\n",
    "optimizer = optim.Adam(model.parameters(), lr=0.0005)\n",
    "\n",
    "# 손실함수(loss function)을 지정합니다. Multi-Class Classification 이기 때문에 CrossEntropy 손실을 지정하였습니다.\n",
    "loss_fn = nn.CrossEntropyLoss()"
   ]
  },
  {
   "attachments": {},
   "cell_type": "markdown",
   "id": "82586144",
   "metadata": {},
   "source": [
    "## 훈련(Train)"
   ]
  },
  {
   "cell_type": "code",
   "execution_count": null,
   "id": "18b4a1f8",
   "metadata": {},
   "outputs": [],
   "source": [
    "from tqdm import tqdm  # Progress Bar 출력"
   ]
  },
  {
   "cell_type": "code",
   "execution_count": null,
   "id": "d229193f",
   "metadata": {},
   "outputs": [],
   "source": [
    "def model_train(model, data_loader, loss_fn, optimizer, device):\n",
    "    # 모델을 훈련모드로 설정합니다. training mode 일 때 Gradient 가 업데이트 됩니다. 반드시 train()으로 모드 변경을 해야 합니다.\n",
    "    model.train()\n",
    "    \n",
    "    # loss와 accuracy 계산을 위한 임시 변수 입니다. 0으로 초기화합니다.\n",
    "    running_loss = 0\n",
    "    corr = 0\n",
    "    \n",
    "    # 예쁘게 Progress Bar를 출력하면서 훈련 상태를 모니터링 하기 위하여 tqdm으로 래핑합니다.\n",
    "    prograss_bar = tqdm(data_loader)\n",
    "    \n",
    "    # mini-batch 학습을 시작합니다.\n",
    "    for img, lbl in prograss_bar:\n",
    "        # image, label 데이터를 device에 올립니다.\n",
    "        img, lbl = img.to(device), lbl.to(device)\n",
    "        \n",
    "        # 누적 Gradient를 초기화 합니다.\n",
    "        optimizer.zero_grad()\n",
    "        \n",
    "        # Forward Propagation을 진행하여 결과를 얻습니다.\n",
    "        output = model(img)\n",
    "        \n",
    "        # 손실함수에 output, label 값을 대입하여 손실을 계산합니다.\n",
    "        loss = loss_fn(output, lbl)\n",
    "        \n",
    "        # 오차역전파(Back Propagation)을 진행하여 미분 값을 계산합니다.\n",
    "        loss.backward()\n",
    "        \n",
    "        # 계산된 Gradient를 업데이트 합니다.\n",
    "        optimizer.step()\n",
    "        \n",
    "        # output의 max(dim=1)은 max probability와 max index를 반환합니다.\n",
    "        # max probability는 무시하고, max index는 pred에 저장하여 label 값과 대조하여 정확도를 도출합니다.\n",
    "        _, pred = output.max(dim=1)\n",
    "        \n",
    "        # pred.eq(lbl).sum() 은 정확히 맞춘 label의 합계를 계산합니다. item()은 tensor에서 값을 추출합니다.\n",
    "        # 합계는 corr 변수에 누적합니다.\n",
    "        corr += pred.eq(lbl).sum().item()\n",
    "        \n",
    "        # loss 값은 1개 배치의 평균 손실(loss) 입니다. img.size(0)은 배치사이즈(batch size) 입니다.\n",
    "        # loss 와 img.size(0)를 곱하면 1개 배치의 전체 loss가 계산됩니다.\n",
    "        # 이를 누적한 뒤 Epoch 종료시 전체 데이터셋의 개수로 나누어 평균 loss를 산출합니다.\n",
    "        running_loss += loss.item() * img.size(0)\n",
    "        \n",
    "    # 누적된 정답수를 전체 개수로 나누어 주면 정확도가 산출됩니다.\n",
    "    acc = corr / len(data_loader.dataset)\n",
    "    \n",
    "    # 평균 손실(loss)과 정확도를 반환합니다.\n",
    "    # train_loss, train_acc\n",
    "    return running_loss / len(data_loader.dataset), acc"
   ]
  },
  {
   "attachments": {},
   "cell_type": "markdown",
   "id": "d4275f37",
   "metadata": {},
   "source": [
    "## 평가(Evaluate)"
   ]
  },
  {
   "cell_type": "code",
   "execution_count": null,
   "id": "1138f413",
   "metadata": {},
   "outputs": [],
   "source": [
    "def model_evaluate(model, data_loader, loss_fn, device):\n",
    "    # model.eval()은 모델을 평가모드로 설정을 바꾸어 줍니다. \n",
    "    # dropout과 같은 layer의 역할 변경을 위하여 evaluation 진행시 꼭 필요한 절차 입니다.\n",
    "    model.eval()\n",
    "    \n",
    "    # Gradient가 업데이트 되는 것을 방지 하기 위하여 반드시 필요합니다.\n",
    "    with torch.no_grad():\n",
    "        # loss와 accuracy 계산을 위한 임시 변수 입니다. 0으로 초기화합니다.\n",
    "        corr = 0\n",
    "        running_loss = 0\n",
    "        \n",
    "        # 배치별 evaluation을 진행합니다.\n",
    "        for img, lbl in data_loader:\n",
    "            # device에 데이터를 올립니다.\n",
    "            img, lbl = img.to(device), lbl.to(device)\n",
    "            \n",
    "            # 모델에 Forward Propagation을 하여 결과를 도출합니다.\n",
    "            output = model(img)\n",
    "            \n",
    "            # output의 max(dim=1)은 max probability와 max index를 반환합니다.\n",
    "            # max probability는 무시하고, max index는 pred에 저장하여 label 값과 대조하여 정확도를 도출합니다.\n",
    "            _, pred = output.max(dim=1)\n",
    "            \n",
    "            # pred.eq(lbl).sum() 은 정확히 맞춘 label의 합계를 계산합니다. item()은 tensor에서 값을 추출합니다.\n",
    "            # 합계는 corr 변수에 누적합니다.\n",
    "            corr += torch.sum(pred.eq(lbl)).item()\n",
    "            \n",
    "            # loss 값은 1개 배치의 평균 손실(loss) 입니다. img.size(0)은 배치사이즈(batch size) 입니다.\n",
    "            # loss 와 img.size(0)를 곱하면 1개 배치의 전체 loss가 계산됩니다.\n",
    "            # 이를 누적한 뒤 Epoch 종료시 전체 데이터셋의 개수로 나누어 평균 loss를 산출합니다.\n",
    "            running_loss += loss_fn(output, lbl).item() * img.size(0)\n",
    "        \n",
    "        # validation 정확도를 계산합니다.\n",
    "        # 누적한 정답숫자를 전체 데이터셋의 숫자로 나누어 최종 accuracy를 산출합니다.\n",
    "        acc = corr / len(data_loader.dataset)\n",
    "        \n",
    "        # 결과를 반환합니다.\n",
    "        # val_loss, val_acc\n",
    "        return running_loss / len(data_loader.dataset), acc"
   ]
  },
  {
   "attachments": {},
   "cell_type": "markdown",
   "id": "bac24e4f",
   "metadata": {},
   "source": [
    "## 모델 훈련(training) & 검증"
   ]
  },
  {
   "cell_type": "code",
   "execution_count": null,
   "id": "2b9a7089",
   "metadata": {},
   "outputs": [],
   "source": [
    "# 최대 Epoch을 지정합니다.\n",
    "num_epochs = 10\n",
    "model_name = 'vgg16-pretrained'\n",
    "\n",
    "min_loss = np.inf\n",
    "\n",
    "# Epoch 별 훈련 및 검증을 수행합니다.\n",
    "for epoch in range(num_epochs):\n",
    "    # Model Training\n",
    "    # 훈련 손실과 정확도를 반환 받습니다.\n",
    "    train_loss, train_acc = model_train(model, train_loader, loss_fn, optimizer, device)\n",
    "\n",
    "    # 검증 손실과 검증 정확도를 반환 받습니다.\n",
    "    val_loss, val_acc = model_evaluate(model, test_loader, loss_fn, device)   \n",
    "    \n",
    "    # val_loss 가 개선되었다면 min_loss를 갱신하고 model의 가중치(weights)를 저장합니다.\n",
    "    if val_loss < min_loss:\n",
    "        print(f'[INFO] val_loss has been improved from {min_loss:.5f} to {val_loss:.5f}. Saving Model!')\n",
    "        min_loss = val_loss\n",
    "        torch.save(model.state_dict(), f'{model_name}.pth')\n",
    "    \n",
    "    # Epoch 별 결과를 출력합니다.\n",
    "    print(f'epoch {epoch+1:02d}, loss: {train_loss:.5f}, acc: {train_acc:.5f}, val_loss: {val_loss:.5f}, val_accuracy: {val_acc:.5f}')"
   ]
  },
  {
   "attachments": {},
   "cell_type": "markdown",
   "id": "514ee1de",
   "metadata": {},
   "source": [
    "## 저장한 가중치 로드 후 검증 성능 측정"
   ]
  },
  {
   "cell_type": "code",
   "execution_count": null,
   "id": "191eaf7b",
   "metadata": {},
   "outputs": [],
   "source": [
    "# 모델에 저장한 가중치를 로드합니다.\n",
    "model.load_state_dict(torch.load(f'{model_name}.pth'))"
   ]
  },
  {
   "cell_type": "code",
   "execution_count": null,
   "id": "aa1db76e",
   "metadata": {},
   "outputs": [],
   "source": [
    "# 최종 검증 손실(validation loss)와 검증 정확도(validation accuracy)를 산출합니다.\n",
    "final_loss, final_acc = model_evaluate(model, test_loader, loss_fn, device)\n",
    "print(f'evaluation loss: {final_loss:.5f}, evaluation accuracy: {final_acc:.5f}')"
   ]
  }
 ],
 "metadata": {
  "kernelspec": {
   "display_name": "Python 3 (ipykernel)",
   "language": "python",
   "name": "python3"
  },
  "language_info": {
   "codemirror_mode": {
    "name": "ipython",
    "version": 3
   },
   "file_extension": ".py",
   "mimetype": "text/x-python",
   "name": "python",
   "nbconvert_exporter": "python",
   "pygments_lexer": "ipython3",
   "version": "3.7.13"
  }
 },
 "nbformat": 4,
 "nbformat_minor": 5
}
