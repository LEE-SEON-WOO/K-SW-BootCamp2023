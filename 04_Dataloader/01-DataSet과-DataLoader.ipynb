{
 "cells": [
  {
   "attachments": {},
   "cell_type": "markdown",
   "id": "794ad4a1",
   "metadata": {},
   "source": [
    "이번 수업에서는\n",
    "\n",
    "1. PyTorch에 **내장(Built-in) 데이터셋**을 로드하는 방법과 \n",
    "2. **로컬 드라이브에 저장**되어 있는 데이터셋을 로드하여 이미지 데이터셋을 구성하는 방법\n",
    "\n",
    "에 대하여 알아보겠습니다.\n",
    "\n",
    "**[참고]**\n",
    "- `torchvision.transform`을 활용한 이미지 정규화는 [링크](https://teddylee777.github.io/pytorch/torchvision-transform)에서 확인해 주시기 바랍니다."
   ]
  },
  {
   "cell_type": "code",
   "execution_count": null,
   "id": "0bd10b24",
   "metadata": {},
   "outputs": [],
   "source": [
    "import numpy as np\n",
    "import torch\n",
    "from torch.utils.data import Dataset\n",
    "from torchvision import datasets, transforms"
   ]
  },
  {
   "attachments": {},
   "cell_type": "markdown",
   "id": "63475e64",
   "metadata": {},
   "source": [
    "## Case 1. 내장(built-in) 데이터셋 로드\n",
    "\n",
    "- `torchvision.datasets` 에서 데이터 로드\n",
    "- 아래 링크에서 built-in datasets의 목록을 확인해 볼 수 있습니다.\n",
    "  - [PyTorch Built-in Datsets](https://pytorch.org/vision/stable/datasets.html)"
   ]
  },
  {
   "attachments": {},
   "cell_type": "markdown",
   "id": "a7b7fcff",
   "metadata": {},
   "source": [
    "### STEP 1) Image Transform 정의"
   ]
  },
  {
   "cell_type": "code",
   "execution_count": null,
   "id": "6b120323",
   "metadata": {},
   "outputs": [],
   "source": [
    "# Image Transform 정의\n",
    "transform = transforms.Compose([\n",
    "    transforms.ToTensor(),\n",
    "])"
   ]
  },
  {
   "attachments": {},
   "cell_type": "markdown",
   "id": "345bb4d5",
   "metadata": {},
   "source": [
    "### STEP 2) 내장 데이터셋 로드 \n",
    "\n",
    "- `FashionMNIST` 데이터셋 로드하는 예제"
   ]
  },
  {
   "attachments": {},
   "cell_type": "markdown",
   "id": "bddf5151",
   "metadata": {},
   "source": [
    "-  `root`: 데이터셋을 다운로드 받을 경로(폴더) 지정.\n",
    "- `train`: `True`로 설정된 경우 `train` 데이터셋에서 로드하며, `False`인 경우 `test` 데이터셋에서 로드\n",
    "- `download`: `True`로 설정된 경우, 인터넷으로부터 데이터셋을 다운로드 받아 지정된 `root` 디렉토리에 다운로드\n",
    "- `transform`: 이미지 `transform` 적용"
   ]
  },
  {
   "cell_type": "code",
   "execution_count": null,
   "id": "fa434082",
   "metadata": {},
   "outputs": [],
   "source": [
    "# train(학습용) 데이터셋 로드\n",
    "train = datasets.FashionMNIST(root='data', \n",
    "                              train=True,         # set True\n",
    "                              download=True,      # 다운로드\n",
    "                              transform=transform # transform 적용. (0~1 로 정규화)\n",
    "                             )"
   ]
  },
  {
   "cell_type": "code",
   "execution_count": null,
   "id": "00d964a5",
   "metadata": {},
   "outputs": [],
   "source": [
    "# test(학습용) 데이터셋 로드\n",
    "test = datasets.FashionMNIST(root='data', \n",
    "                             train=False,       # set to False\n",
    "                             download=True,     # 다운로드\n",
    "                             transform=transform # transform 적용. (0~1 로 정규화)\n",
    "                            )"
   ]
  },
  {
   "attachments": {},
   "cell_type": "markdown",
   "id": "79ec39d2",
   "metadata": {},
   "source": [
    "`FashionMNIST` 데이터셋 시각화\n",
    "\n",
    "- 총 10개의 카테고리로 구성되어 있으며, `Label`은 아래 코드에서 `labels_map`에 정의되어 있습니다.\n",
    "- 출처: [zalandoresearch/fashion-mnist](https://github.com/zalandoresearch/fashion-mnist)"
   ]
  },
  {
   "cell_type": "code",
   "execution_count": null,
   "id": "d95b8e22",
   "metadata": {},
   "outputs": [],
   "source": [
    "import matplotlib.pyplot as plt\n",
    "\n",
    "labels_map = {\n",
    "    0: \"T-Shirt\",\n",
    "    1: \"Trouser\",\n",
    "    2: \"Pullover\",\n",
    "    3: \"Dress\",\n",
    "    4: \"Coat\",\n",
    "    5: \"Sandal\",\n",
    "    6: \"Shirt\",\n",
    "    7: \"Sneaker\",\n",
    "    8: \"Bag\",\n",
    "    9: \"Ankle Boot\",\n",
    "}\n",
    "\n",
    "figure = plt.figure(figsize=(12, 8))\n",
    "cols, rows = 8, 5\n",
    "\n",
    "for i in range(1, cols * rows + 1):\n",
    "    sample_idx = torch.randint(len(train), size=(1,)).item()\n",
    "    img, label = train[sample_idx]\n",
    "    figure.add_subplot(rows, cols, i)\n",
    "    plt.title(labels_map[label])\n",
    "    plt.axis(\"off\")\n",
    "    plt.imshow(torch.permute(img, (1, 2, 0)), cmap='gray')\n",
    "plt.show()"
   ]
  },
  {
   "attachments": {},
   "cell_type": "markdown",
   "id": "5ffa7009",
   "metadata": {},
   "source": [
    "### STEP 3) torch.utils.data.DataLoader로 데이터셋 로더 구성"
   ]
  },
  {
   "cell_type": "code",
   "execution_count": null,
   "id": "0507e65f",
   "metadata": {},
   "outputs": [],
   "source": [
    "batch_size = 32 # batch_size 지정\n",
    "num_workers = 8 # Thread 숫자 지정 (병렬 처리에 활용할 쓰레드 숫자 지정)"
   ]
  },
  {
   "cell_type": "code",
   "execution_count": null,
   "id": "d4d3317a",
   "metadata": {},
   "outputs": [],
   "source": [
    "train_loader = torch.utils.data.DataLoader(train, \n",
    "                                           batch_size=batch_size,\n",
    "                                           shuffle=True, \n",
    "                                           num_workers=num_workers)"
   ]
  },
  {
   "cell_type": "code",
   "execution_count": null,
   "id": "d08219f4",
   "metadata": {},
   "outputs": [],
   "source": [
    "test_loader = torch.utils.data.DataLoader(test, \n",
    "                                          batch_size=batch_size,\n",
    "                                          shuffle=False, \n",
    "                                          num_workers=num_workers)"
   ]
  },
  {
   "attachments": {},
   "cell_type": "markdown",
   "id": "0b83a441",
   "metadata": {},
   "source": [
    "## Case 2. 로컬 디렉토리에서 Image를 로드"
   ]
  },
  {
   "attachments": {},
   "cell_type": "markdown",
   "id": "1770896d",
   "metadata": {},
   "source": [
    "튜토리얼 진행을 위한 데이터셋 다운로드\n",
    "- `images` 폴더에 `rps` 데이터셋 다운로드"
   ]
  },
  {
   "cell_type": "code",
   "execution_count": null,
   "id": "90d0c744",
   "metadata": {},
   "outputs": [],
   "source": [
    "# 이미지 데이터셋 다운로드\n",
    "import urllib.request\n",
    "import zipfile\n",
    "import glob\n",
    "\n",
    "url = 'https://storage.googleapis.com/download.tensorflow.org/data/rps.zip'\n",
    "urllib.request.urlretrieve(url, 'rps.zip')\n",
    "local_zip = 'rps.zip'\n",
    "zip_ref = zipfile.ZipFile(local_zip, 'r')\n",
    "zip_ref.extractall('images/')\n",
    "zip_ref.close()\n",
    "\n",
    "print(glob.glob('images/rps/*'))"
   ]
  },
  {
   "attachments": {},
   "cell_type": "markdown",
   "id": "3406f597",
   "metadata": {},
   "source": [
    "다운로드 받은 이미지는 `images`폴더 하위에 `rps` 폴더에 `rock`, `paper`, `scissors` 폴더가 생성되었으며, 각각의 폴더 밑에 가위/바위/보자기 사진 파일이 위치해 있습니다."
   ]
  },
  {
   "cell_type": "code",
   "execution_count": null,
   "id": "62890aec",
   "metadata": {},
   "outputs": [],
   "source": [
    "# rock 폴더 하위에 위치한 .png 파일 10개 출력\n",
    "glob.glob('images/rps/rock/*')[:10]"
   ]
  },
  {
   "attachments": {},
   "cell_type": "markdown",
   "id": "c365f900",
   "metadata": {},
   "source": [
    "현재 `root` 디렉토리는 `images/rps` 폴더가 `root` 디렉토리입니다.\n",
    "\n",
    "간단히 도식화 해보면 다음과 같습니다.\n",
    "\n",
    "- `images/rps`\n",
    "  - `rock` 폴더\n",
    "  - `paper` 폴더\n",
    "  - `scissor` 폴더"
   ]
  },
  {
   "cell_type": "code",
   "execution_count": null,
   "id": "9f480655",
   "metadata": {},
   "outputs": [],
   "source": [
    "image_folder = datasets.ImageFolder(root='images/rps', \n",
    "                                    transform=transforms.Compose([\n",
    "                                        transforms.ToTensor(), \n",
    "                                    ])\n",
    "                                   )"
   ]
  },
  {
   "attachments": {},
   "cell_type": "markdown",
   "id": "c8196aa0",
   "metadata": {},
   "source": [
    "`image_folder` 변수에 `class_to_idx` 속성 값을 확인해보면 class에 맵핑되는 label을 확인할 수 있습니다."
   ]
  },
  {
   "cell_type": "code",
   "execution_count": null,
   "id": "23d8c3af",
   "metadata": {},
   "outputs": [],
   "source": [
    "# class to index 라벨값 확인 (추후 시각화에 활용)\n",
    "image_folder.class_to_idx"
   ]
  },
  {
   "cell_type": "code",
   "execution_count": null,
   "id": "8c6ea408",
   "metadata": {},
   "outputs": [],
   "source": [
    "train_loader = torch.utils.data.DataLoader(image_folder,         # image_folder를 지정\n",
    "                                           batch_size=batch_size,# 배치사이즈 지정\n",
    "                                           shuffle=True,        # shuffle 여부 지정\n",
    "                                           num_workers=8)       # num_workers 지정"
   ]
  },
  {
   "cell_type": "code",
   "execution_count": null,
   "id": "d04b1cdb",
   "metadata": {},
   "outputs": [],
   "source": [
    "test_loader = torch.utils.data.DataLoader(image_folder,          # 원래는 별도의 Validation Set의 root 경로를 지정해야 한다. \n",
    "                                          batch_size=batch_size, # 배치사이즈 지정\n",
    "                                          shuffle=False,        # shuffle 여부 지정\n",
    "                                          num_workers=8)         # num_workers 지정"
   ]
  },
  {
   "attachments": {},
   "cell_type": "markdown",
   "id": "f783055c",
   "metadata": {},
   "source": [
    "1개의 배치(Batch)를 가져와서 shape를 확인하고, 시각화를 해봅니다."
   ]
  },
  {
   "cell_type": "code",
   "execution_count": null,
   "id": "b3036ccd",
   "metadata": {},
   "outputs": [],
   "source": [
    "# 1개 batch 추출\n",
    "images, labels = next(iter(train_loader))"
   ]
  },
  {
   "cell_type": "code",
   "execution_count": null,
   "id": "964fc93d",
   "metadata": {},
   "outputs": [],
   "source": [
    "# images, labels에 각각 32개의 batch가 로드되어 있습니다.\n",
    "# images는 300 X 300 사이즈 RGB 이미지 32장이 1개 batch로 구성되어 있습니다.\n",
    "images.shape, labels.shape"
   ]
  },
  {
   "attachments": {},
   "cell_type": "markdown",
   "id": "0320fed4",
   "metadata": {},
   "source": [
    "`RPS` 데이터셋을 시각화 합니다."
   ]
  },
  {
   "cell_type": "code",
   "execution_count": null,
   "id": "7df036c5",
   "metadata": {},
   "outputs": [],
   "source": [
    "# ImageFolder의 속성 값인 class_to_idx를 할당\n",
    "labels_map = {v:k for k, v in image_folder.class_to_idx.items()}\n",
    "\n",
    "figure = plt.figure(figsize=(12, 8))\n",
    "cols, rows = 8, 5\n",
    "\n",
    "for i in range(1, cols * rows + 1):\n",
    "    sample_idx = torch.randint(len(images), size=(1,)).item()\n",
    "    img, label = images[sample_idx], labels[sample_idx].item()\n",
    "    figure.add_subplot(rows, cols, i)\n",
    "    plt.title(labels_map[label])\n",
    "    plt.axis(\"off\")\n",
    "    plt.imshow(torch.permute(img, (1, 2, 0)))\n",
    "plt.show()"
   ]
  }
 ],
 "metadata": {
  "kernelspec": {
   "display_name": "Python 3 (ipykernel)",
   "language": "python",
   "name": "python3"
  },
  "language_info": {
   "codemirror_mode": {
    "name": "ipython",
    "version": 3
   },
   "file_extension": ".py",
   "mimetype": "text/x-python",
   "name": "python",
   "nbconvert_exporter": "python",
   "pygments_lexer": "ipython3",
   "version": "3.7.13"
  }
 },
 "nbformat": 4,
 "nbformat_minor": 5
}
